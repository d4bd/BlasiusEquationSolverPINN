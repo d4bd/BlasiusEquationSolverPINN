{
  "nbformat": 4,
  "nbformat_minor": 0,
  "metadata": {
    "colab": {
      "provenance": [],
      "gpuType": "T4"
    },
    "kernelspec": {
      "name": "python3",
      "display_name": "Python 3"
    },
    "language_info": {
      "name": "python"
    },
    "accelerator": "GPU"
  },
  "cells": [
    {
      "cell_type": "markdown",
      "metadata": {
        "id": "UjkatxrR0iFG"
      },
      "source": [
        "# Using a Physics Informed Neural Network (PINN) to solve the Blasius equation"
      ]
    },
    {
      "cell_type": "markdown",
      "metadata": {
        "id": "iNvGDnjm7yBF"
      },
      "source": [
        "Objective of this project is to compare different methods to solve numerically the Blausius equation, for which an analytical solution is still not known.\n",
        "\n",
        "More in detail, we will compare a standard method for the numerical computation of the solution, given by the *solve_bvp* algorithm of SciPy, to two different implementations of a Physically Informed Neural Network (PINN) [2, 3, 4]:\n",
        "- the first one implementing an unsupervised learning process,\n",
        "- the second one implementing a supervised learning process"
      ]
    },
    {
      "cell_type": "markdown",
      "metadata": {
        "id": "XslOpzuK_Ypt"
      },
      "source": [
        "PINNs are a particular class of neural networks whose study has recently begun, and which are having a lot of success. They have been developped starting from the observation that neural networks are proving to be very effective in solving problems of applied mathematics such as Partial Differential Equations (PDEs).\n",
        "Aim of this class of algorithms is to compute numerical solutions for differential equations in a more efficient way that standard computational methods. The way they achive this is by exploiting the knowledge of the equation to improve the training of the network (more details on this are provided later in the project)"
      ]
    },
    {
      "cell_type": "markdown",
      "source": [
        "## Theoretical introduction"
      ],
      "metadata": {
        "id": "c0sgvcqoXWSZ"
      }
    },
    {
      "cell_type": "markdown",
      "metadata": {
        "id": "xNkyh1AZ0vN2"
      },
      "source": [
        "### Blausius equation"
      ]
    },
    {
      "cell_type": "markdown",
      "metadata": {
        "id": "egyKkH_W03mJ"
      },
      "source": [
        "The *Blasius equation*\n",
        "\n",
        "\\begin{equation}\n",
        "  f^{'''} + \\frac{1}{2} f f^{''} = 0\n",
        "\\end{equation}\n",
        "\n",
        "is a simplification of the Navier-Stokes equation that describes the steady two-dimensional laminar boundary layer that forms on a semi-infinite plate which is held parallel to a constant unidirectional flow.\n",
        "The boundary conditions here considered are the ones proposed by Blasius which account for the no-slip condition\n",
        "\n",
        "\\begin{equation}\n",
        "  \\begin{cases}\n",
        "    &f(0) = 0\\\\\n",
        "    &f^{'}(0) = 0\\\\\n",
        "    &\\lim_{x \\to \\infty} f^{'}(x) = 1\n",
        "  \\end{cases}.\n",
        "\\end{equation}\n",
        "\n",
        "Since we are dealing with a computational task, the last condition ($f^{'}(\\infty)$) will be intended as: the derivative $f^{'}$ evaluated at a sufficiently large number is equal to 1 [1]"
      ]
    },
    {
      "cell_type": "markdown",
      "metadata": {
        "id": "0okmAX1F4o4t"
      },
      "source": [
        "#### On the differential equation"
      ]
    },
    {
      "cell_type": "markdown",
      "metadata": {
        "id": "uljfjU7a4r7A"
      },
      "source": [
        "The Blasius equation is a nonlinear, boundary value problem (BVP) for the third order differential equation [1]\n",
        "\n",
        "We observe that this equation admits both Dirichlet ($f(0) = 0$) and Robin ($f^{'}(0) = 0, f^{'}(\\infty) = 1$) boundary conditions\n",
        "\n"
      ]
    },
    {
      "cell_type": "markdown",
      "metadata": {
        "id": "bgkiT5PQ5XER"
      },
      "source": [
        "At the moment an exact analytical solution for this equation is not know. Therefore, the only way to solve it is via numerical methods"
      ]
    },
    {
      "cell_type": "markdown",
      "metadata": {
        "id": "IRsnqEdSYRre"
      },
      "source": [
        "### Physically Informed Neural Networks (PINNs)"
      ]
    },
    {
      "cell_type": "markdown",
      "metadata": {
        "id": "G7Kn6e-XoEgL"
      },
      "source": [
        "This class of Neural Networks was developed specifically for solving differential equations numerically. PINNs are deep-learning networks that, given an input point in the integration domain, produce an estimate solution in that point of a differential equation after training [4]\n",
        "\n",
        "What sets apart PINNs from other methods is that they take into account the underlying differential equation, i.e. the physics of the problem, during training, rather than attempting to deduce the solution based solely on data. This is achieved by defining a custom loss function for the neural network that includes knowledge about the equation under study [4]\n",
        "\n",
        "\n"
      ]
    },
    {
      "cell_type": "markdown",
      "source": [
        "#### The physically informed loss function"
      ],
      "metadata": {
        "id": "2vsJMdC7WHgb"
      }
    },
    {
      "cell_type": "markdown",
      "source": [
        "The loss function used by PINNs is defined as\n",
        "\n",
        "\\begin{equation}\n",
        "  L(\\theta) = \\omega_{F} L_{F}(\\theta) + \\omega_{B} L_{B}(\\theta) + \\omega_{D} L_{D}(\\theta),\n",
        "\\end{equation}\n",
        "\n",
        "where:\n",
        "- $\\theta$ is the parameter with respect to which we want to minimize,\n",
        "- $L_{F}$ is the part of the loss function calculated with respect to the residual of the differential equation\n",
        "- $L_{B}$ is the part of the loss function calculated taking into consideration the boundary conditions,\n",
        "- $L_{D}$ is the part of the loss function calculated taking into consideration any known data of the problem under consideration and,\n",
        "- $\\omega_{F}$, $\\omega_{B}$, $\\omega_{D}$ are appropriate weights [4]\n",
        "\n",
        "Given this new loss function, then, the resulting optimization problem can be handled using the normal stochastic gradient descent algorithm (this is the case for this project)\n",
        "\n",
        "Referring to the cases studied in this project, $L_{D}$ appears in the loss function of the supervised learning case, while it is absent in the unsupervised one"
      ],
      "metadata": {
        "id": "T8WkIvlXWOQs"
      }
    },
    {
      "cell_type": "markdown",
      "metadata": {
        "id": "Q-A-d1Qju9bA"
      },
      "source": [
        "#### Setting of the problem\n"
      ]
    },
    {
      "cell_type": "markdown",
      "metadata": {
        "id": "88RHtiln0Uj0"
      },
      "source": [
        "Expressing the differential equation as\n",
        "\n",
        "\\begin{align}\n",
        "  F\\left( u(z)); \\gamma \\right) & = f(z) \\quad z \\in \\Omega\\\\\n",
        "  B\\left( u(z)\\right) & = g(z) \\quad z \\in \\partial \\Omega\n",
        "\\end{align}\n",
        "\n",
        "defined on the domain $\\Omega \\subset R^{d}$ with boundary $\\partial \\Omega$. Where $z := [x_{1}, \\dots, x_{d-1}; t]$ indicates the space-time coordinate vector, $u$ represents the unknown solution, $\\gamma$ are the parameters related to the physics, $f$ is the function identifying the data of the problem, $F$ is the non linear differential operator. Finally, since the initial condition can actually be considered as a type of Dirichlet boundary condition on the spatio-temporal domain, it is possible to denote $B$ as the operator indicating arbitrary initial or boundary conditions related to the problem and $g$ the boundary function. Indeed, the boundary conditions can be Dirichlet, Neumann, Robin, or periodic boundary conditions [4]\n",
        "\n",
        "Objective of PINNs is to approximate the solution\n",
        "\n",
        "\\begin{equation}\n",
        "  u_{\\theta}(z) \\approx u(z),\n",
        "\\end{equation}\n",
        "\n",
        "where the approximation depends on a series of parameters $\\theta$ on which we optimize the network.\n",
        "\n"
      ]
    },
    {
      "cell_type": "markdown",
      "source": [
        "##### Explicit form of the loss function"
      ],
      "metadata": {
        "id": "SQO0xL3Qi3-b"
      }
    },
    {
      "cell_type": "markdown",
      "source": [
        "Having defined the setup, we can then explicitly calculate the loss functions. A typical implementation uses the mean square error formulation:\n",
        "\n",
        "\\begin{equation}\n",
        "  \\begin{aligned}\n",
        "    &L_{F}(\\theta) = MSE_{F} = \\frac{1}{N_{c}} \\sum_{i = 1}^{N_{c}} || F(u_{\\theta}(z_i)) - f(z_i) ||^{2}\\\\\n",
        "    &L_{B}(\\theta) = MSE_{B} = \\frac{1}{N_{B}} \\sum_{i = 1}^{N_{B}} || B(u_{\\theta}(z_i)) - g(z_i) ||^{2}\\\\\n",
        "    &L_{D}(\\theta) = MSE_{D} = \\frac{1}{N_{d}} \\sum_{i = 1}^{N_{d}} || u_{\\theta}(z_i) - u^*_i ||^{2}\\\\\n",
        "  \\end{aligned},\n",
        "\\end{equation}\n",
        "\n",
        "where $z_i$ is the i-th input passed to the network within a training batch and $u^*_i$ is the empirically known solution corresponding to the input $z_i$ [4]"
      ],
      "metadata": {
        "id": "12Fd_tsdi-CM"
      }
    },
    {
      "cell_type": "markdown",
      "metadata": {
        "id": "xUjylz2ovObZ"
      },
      "source": [
        "#### PINNs' architectures\n"
      ]
    },
    {
      "cell_type": "markdown",
      "metadata": {
        "id": "yonfM2jR0Q_v"
      },
      "source": [
        "PINNs allow for the implementation of a wide variety of architectures. A summary on the topic can be found in Ref. [4]\n"
      ]
    },
    {
      "cell_type": "markdown",
      "metadata": {
        "id": "ODzmgswR0SHH"
      },
      "source": [
        "In the particular case under study a fully connected deep neural network is sufficient\n",
        "\n",
        "In particular, in both cases we will adopt a fully connected neural network with input and output of dimension one and 2 hidden layers containing 20 neurons each"
      ]
    },
    {
      "cell_type": "markdown",
      "source": [
        "##### Activation function"
      ],
      "metadata": {
        "id": "35HxQudGl3rn"
      }
    },
    {
      "cell_type": "markdown",
      "source": [
        "Regarding the activation function used in the hidden layers' neurons, the one that is mostly used in the literature of PINN is *tanh* [4]\n",
        "\n",
        "For this reason this activation function will also be the one we will use"
      ],
      "metadata": {
        "id": "lXkSgMKwleCV"
      }
    },
    {
      "cell_type": "markdown",
      "source": [
        "Since we want a real number as outuput of the network, we will not apply any activation function on the neuron composing the output layer"
      ],
      "metadata": {
        "id": "qsUTAs1TyswD"
      }
    },
    {
      "cell_type": "markdown",
      "metadata": {
        "id": "BqIzOysw_vci"
      },
      "source": [
        "## Finding the numerical solution using SciPy"
      ]
    },
    {
      "cell_type": "markdown",
      "metadata": {
        "id": "vimfaIhBAWvq"
      },
      "source": [
        "We begin by finding the solution to the equation using a numerical method. In particular, we will use the *solve_bvp* function from the SciPy library. This is a numerical solver for boundary value problems\n",
        "\n"
      ]
    },
    {
      "cell_type": "markdown",
      "metadata": {
        "id": "pULK0Px-JyNQ"
      },
      "source": [
        "**NOTE**: The procedure here implemented was adapted from the one proposed in Ref. [5]"
      ]
    },
    {
      "cell_type": "markdown",
      "source": [
        "### Mathematical Fundations"
      ],
      "metadata": {
        "id": "ekGWYMuFVqB9"
      }
    },
    {
      "cell_type": "markdown",
      "source": [
        "Before implementing the algorithm we have to make some further mathematical considerations regarding the Blasius equation that are needed for the implementation of the solve_bvp algorithm"
      ],
      "metadata": {
        "id": "T948O6QpjhFg"
      }
    },
    {
      "cell_type": "markdown",
      "metadata": {
        "id": "ABPABMqTISFf"
      },
      "source": [
        "#### Transforming the third order equation into a system of first order differential equations"
      ]
    },
    {
      "cell_type": "markdown",
      "metadata": {
        "id": "nkK_vOKXIYv6"
      },
      "source": [
        "The solver algorithm implemented by the function solve_bvp requires the differential equation to be expressed as a system of first order differential equations"
      ]
    },
    {
      "cell_type": "markdown",
      "metadata": {
        "id": "6QxLVVTTIvCq"
      },
      "source": [
        "The system of first order differential equations equivalent to\n",
        "\n",
        "\\begin{equation}\n",
        "  f^{'''} + \\frac{1}{2}f f^{''} = 0\n",
        "\\end{equation}\n",
        "\n",
        "is given by\n",
        "\n",
        "\\begin{cases}\n",
        "  &f^{'}_{1} = f_{2}\\\\\n",
        "  &f^{'}_{2} = f_{3}\\\\\n",
        "  &f^{'}_{3} = -\\frac{1}{2}f_{1}f_{3}\n",
        "\\end{cases}\n",
        "\n",
        "with the boundary conditions that now become\n",
        "\n",
        "\\begin{cases}\n",
        "  &f_{1}(0) = 0\\\\\n",
        "  &f_{2}(0) = 0\\\\\n",
        "  &f_{2}(\\infty) = 1\n",
        "\\end{cases}\n",
        "\n",
        "where, as already discussed above, with $f_{2}(\\infty) = 1$ we indentend the function $f_{2}$ evaluated at a sufficiently large number"
      ]
    },
    {
      "cell_type": "markdown",
      "metadata": {
        "id": "lbr-HukGQldB"
      },
      "source": [
        "#### Initial guess"
      ]
    },
    {
      "cell_type": "markdown",
      "metadata": {
        "id": "qaVC3QnDQnNz"
      },
      "source": [
        "The algorithm also requires an initial guess for the solution\n",
        "\n",
        "The initial guess we have chosen to use is\n",
        "\n",
        "\\begin{equation}\n",
        "  \\begin{cases}\n",
        "      &f_1 = e^{-x} + x -1\\\\\n",
        "      &f_2 = f^{'}_{1} = - e^{-x} + 1\\\\\n",
        "      &f_{3} = f^{'}_{2} = e^{-x}\n",
        "  \\end{cases}\n",
        "\\end{equation}\n",
        "\n",
        "Obviously this tentative solution does not solve the differential equation under study. For the algorithm to work it is sufficient that it approximates the trend of the solution described by the known data, in this case the boundary conditions. It is, in fact, possible to verify that our tentative solution satisfies these latter conditions"
      ]
    },
    {
      "cell_type": "markdown",
      "metadata": {
        "id": "alE5QH_wKMmN"
      },
      "source": [
        "### Code implementation"
      ]
    },
    {
      "cell_type": "markdown",
      "source": [
        "#### Importing the libraries"
      ],
      "metadata": {
        "id": "OOcicJmwWD-V"
      }
    },
    {
      "cell_type": "code",
      "execution_count": 1,
      "metadata": {
        "id": "tJvAYqkiH_2p"
      },
      "outputs": [],
      "source": [
        "#Importing the required libraries\n",
        "import numpy as np\n",
        "import matplotlib.pyplot as plt\n",
        "\n",
        "#Importing the solver\n",
        "from scipy.integrate import solve_bvp\n",
        "\n",
        "#For comparing the execution times of the different methods\n",
        "from time import time"
      ]
    },
    {
      "cell_type": "markdown",
      "source": [
        "#### Setting the parameters"
      ],
      "metadata": {
        "id": "vC4mM1FcWR--"
      }
    },
    {
      "cell_type": "markdown",
      "metadata": {
        "id": "bAZ6wEHYz7ul"
      },
      "source": [
        "We set the seed for the random generator for reproducibility of the results"
      ]
    },
    {
      "cell_type": "code",
      "execution_count": 2,
      "metadata": {
        "id": "tRwIjF3b0Dkx"
      },
      "outputs": [],
      "source": [
        "np.random.seed(1234)"
      ]
    },
    {
      "cell_type": "markdown",
      "metadata": {
        "id": "47LVEjA_TL7n"
      },
      "source": [
        "We will study the problem on the segment [0,5] and solve the problem over 100000 points uniformly distributed over that segment\n",
        "\n"
      ]
    },
    {
      "cell_type": "code",
      "execution_count": 3,
      "metadata": {
        "id": "rBjwbjAQTXv_"
      },
      "outputs": [],
      "source": [
        "xmin = 0\n",
        "xmax = 5\n",
        "numPoints = 100000"
      ]
    },
    {
      "cell_type": "code",
      "execution_count": 4,
      "metadata": {
        "id": "BT8-GQsrThk_"
      },
      "outputs": [],
      "source": [
        "eta = np.linspace(xmin, xmax, numPoints)"
      ]
    },
    {
      "cell_type": "markdown",
      "source": [
        "#### Defining the differential equation and the boundary conditions"
      ],
      "metadata": {
        "id": "fHAjcaNJWzJ8"
      }
    },
    {
      "cell_type": "markdown",
      "metadata": {
        "id": "f-uI5UXULqro"
      },
      "source": [
        "As a first step one one needs to code the differential equation and its boundary conditions"
      ]
    },
    {
      "cell_type": "code",
      "execution_count": 5,
      "metadata": {
        "id": "ptyU623SJV_U"
      },
      "outputs": [],
      "source": [
        "#Implementation of the Ordinary Differential Equation (ODE)\n",
        "def ode(x, f):\n",
        "  #x is the variable of the function and it is the array of point on which we want the solver to determine the value of the function\n",
        "  #f will be an array containing the three functions of the system of differential equations\n",
        "  f1, f2, f3 = f\n",
        "  df1dx = f2\n",
        "  df2dx = f3\n",
        "  df3dx = -0.5*f1*f3\n",
        "  return [df1dx, df2dx, df3dx]"
      ]
    },
    {
      "cell_type": "code",
      "execution_count": 6,
      "metadata": {
        "id": "Mj75ZbBHOgZ_"
      },
      "outputs": [],
      "source": [
        "#For the boundary condition we have to define another function\n",
        "def bc(bl, br):\n",
        "  #bl is an array containing the value of the three functions f_1, f_2, f_3 at on the first boundary point (x = 0)\n",
        "  #analogously for br in the case of the second boundary point (x = 5)\n",
        "  f1bl, f2bl, f3bl = bl\n",
        "  f1br, f2br, f3br = br\n",
        "  return [f1bl, f2bl, f2br-1] #we then have to return the residual of the boundary conditions"
      ]
    },
    {
      "cell_type": "markdown",
      "source": [
        "#### Tentative solution"
      ],
      "metadata": {
        "id": "Vae99dygW_CY"
      }
    },
    {
      "cell_type": "markdown",
      "metadata": {
        "id": "E7lLXYOBSqcG"
      },
      "source": [
        "One then has to implement the tentative solution"
      ]
    },
    {
      "cell_type": "code",
      "execution_count": 7,
      "metadata": {
        "id": "iRh1AtyrStsO"
      },
      "outputs": [],
      "source": [
        "def fGuess(x):\n",
        "  f1Guess = np.exp(-x) + x - 1\n",
        "  f2Guess = - np.exp(-x) + 1\n",
        "  f3Guess = np.exp(-x)\n",
        "  return [f1Guess, f2Guess, f3Guess]"
      ]
    },
    {
      "cell_type": "markdown",
      "source": [
        "#### Executing the numerical solver"
      ],
      "metadata": {
        "id": "jr_k7nN9XHj2"
      }
    },
    {
      "cell_type": "markdown",
      "metadata": {
        "id": "bKyJd99hTwK6"
      },
      "source": [
        "With everything set up, one can now execute the solver\n"
      ]
    },
    {
      "cell_type": "code",
      "execution_count": 8,
      "metadata": {
        "colab": {
          "base_uri": "https://localhost:8080/"
        },
        "id": "_du4Un4JT0cY",
        "outputId": "105f7465-369a-4fb7-94e1-fc05033d6fb7"
      },
      "outputs": [
        {
          "output_type": "stream",
          "name": "stdout",
          "text": [
            "\n",
            "Computation time for numerical solver: 2.0078940391540527 seconds\n"
          ]
        },
        {
          "output_type": "execute_result",
          "data": {
            "text/plain": [
              "       message: The algorithm converged to the desired accuracy.\n",
              "       success: True\n",
              "        status: 0\n",
              "             x: [ 0.000e+00  5.000e-05 ...  5.000e+00  5.000e+00]\n",
              "           sol: <scipy.interpolate._interpolate.PPoly object at 0x7ce85cf71c60>\n",
              "             p: None\n",
              "             y: [[-4.337e-30  4.202e-10 ...  3.317e+00  3.317e+00]\n",
              "                 [ 4.401e-19  1.681e-05 ...  1.000e+00  1.000e+00]\n",
              "                 [ 3.362e-01  3.362e-01 ...  1.555e-02  1.555e-02]]\n",
              "            yp: [[ 4.401e-19  1.681e-05 ...  1.000e+00  1.000e+00]\n",
              "                 [ 3.362e-01  3.362e-01 ...  1.555e-02  1.555e-02]\n",
              "                 [ 7.289e-31 -7.063e-11 ... -2.580e-02 -2.580e-02]]\n",
              " rms_residuals: [ 2.494e-13  5.296e-13 ...  2.608e-05  2.608e-05]\n",
              "         niter: 1"
            ]
          },
          "metadata": {},
          "execution_count": 8
        }
      ],
      "source": [
        "tInit = time()\n",
        "numericalSolution = solve_bvp(ode, bc, eta, fGuess(eta), max_nodes=numPoints)\n",
        "tNumericalSolver = time()-tInit\n",
        "\n",
        "#Print computation time\n",
        "print('\\nComputation time for numerical solver: {} seconds'.format(tNumericalSolver))\n",
        "\n",
        "numericalSolution"
      ]
    },
    {
      "cell_type": "markdown",
      "metadata": {
        "id": "A2Nb-HlIVNfn"
      },
      "source": [
        "### Plotting the results"
      ]
    },
    {
      "cell_type": "code",
      "execution_count": 9,
      "metadata": {
        "colab": {
          "base_uri": "https://localhost:8080/",
          "height": 490
        },
        "id": "0f3vt5RRVSEo",
        "outputId": "fa1274c6-efef-4c55-c7df-1731d15e2d87"
      },
      "outputs": [
        {
          "output_type": "execute_result",
          "data": {
            "text/plain": [
              "<matplotlib.legend.Legend at 0x7ce8261e0d00>"
            ]
          },
          "metadata": {},
          "execution_count": 9
        },
        {
          "output_type": "display_data",
          "data": {
            "text/plain": [
              "<Figure size 640x480 with 1 Axes>"
            ],
            "image/png": "[encoded data removed]"
          },
          "metadata": {}
        }
      ],
      "source": [
        "plt.title('Standard numerical solver')\n",
        "plt.plot(numericalSolution.x, numericalSolution.y[0],label='Numerical solution')\n",
        "plt.plot(eta, fGuess(eta)[0], label='Tentative solution')\n",
        "plt.xlabel('x')\n",
        "plt.ylabel('f(x)')\n",
        "plt.legend()"
      ]
    },
    {
      "cell_type": "code",
      "execution_count": 10,
      "metadata": {
        "colab": {
          "base_uri": "https://localhost:8080/",
          "height": 490
        },
        "id": "d5d0KzezXHwF",
        "outputId": "3691bab5-015b-4e2b-9d22-c943949566c9"
      },
      "outputs": [
        {
          "output_type": "execute_result",
          "data": {
            "text/plain": [
              "<matplotlib.legend.Legend at 0x7ce825f72200>"
            ]
          },
          "metadata": {},
          "execution_count": 10
        },
        {
          "output_type": "display_data",
          "data": {
            "text/plain": [
              "<Figure size 640x480 with 1 Axes>"
            ],
            "image/png": "[encoded data removed]"
          },
          "metadata": {}
        }
      ],
      "source": [
        "plt.title('Numerical solution')\n",
        "plt.plot(numericalSolution.x, numericalSolution.y[0],label='f(x)')\n",
        "plt.plot(numericalSolution.x, numericalSolution.y[1],label='df/dx(x)')\n",
        "plt.plot(numericalSolution.x, numericalSolution.y[2],label='df/dxx(x)')\n",
        "plt.xlabel('x')\n",
        "plt.legend()"
      ]
    },
    {
      "cell_type": "code",
      "execution_count": 11,
      "metadata": {
        "colab": {
          "base_uri": "https://localhost:8080/",
          "height": 490
        },
        "id": "1RZd-3jNXo0s",
        "outputId": "e096b2fb-3f34-4cd6-a7af-fe75e1599764"
      },
      "outputs": [
        {
          "output_type": "execute_result",
          "data": {
            "text/plain": [
              "<matplotlib.legend.Legend at 0x7ce823ec2590>"
            ]
          },
          "metadata": {},
          "execution_count": 11
        },
        {
          "output_type": "display_data",
          "data": {
            "text/plain": [
              "<Figure size 640x480 with 1 Axes>"
            ],
            "image/png": "[encoded data removed]"
          },
          "metadata": {}
        }
      ],
      "source": [
        "plt.title('Asymptotic behavior of the first order derivative')\n",
        "plt.plot(numericalSolution.x, numericalSolution.y[1],label='df/dx(x)')\n",
        "plt.plot(eta,np.ones(eta.size), label='Constant function')\n",
        "plt.xlabel('x')\n",
        "plt.legend()"
      ]
    },
    {
      "cell_type": "markdown",
      "metadata": {
        "id": "RtgBI7r5W3RY"
      },
      "source": [
        "**NOTE**: The numerical solution found in this way will be used for the supervised training of the PINN later in the project"
      ]
    },
    {
      "cell_type": "markdown",
      "source": [
        "## Finding the numerical solution using PINNs"
      ],
      "metadata": {
        "id": "_18ttGyW7g_1"
      }
    },
    {
      "cell_type": "markdown",
      "source": [
        "### Implementation from scratch of the algorithm (Unsupervised)"
      ],
      "metadata": {
        "id": "-kd62PfdhDBD"
      }
    },
    {
      "cell_type": "markdown",
      "source": [
        "We will start by implementin the PINN in the unsupervised case, meaning that in the loss function we will consider only the terms related to the residual of the differential equation and the boundary conditions. Substantially, we are supposing that we do not have any empirical data that could help training the network"
      ],
      "metadata": {
        "id": "boruDPcfk4pY"
      }
    },
    {
      "cell_type": "markdown",
      "source": [
        "**NOTE**: For the following implementation, reference was made to Refs. [2, 3, 4, 6, 7, 8, 9]"
      ],
      "metadata": {
        "id": "ulMNwNGvhDBH"
      }
    },
    {
      "cell_type": "markdown",
      "source": [
        "#### Importing the libraries"
      ],
      "metadata": {
        "id": "Tt0DPEnehDBK"
      }
    },
    {
      "cell_type": "code",
      "source": [
        "import tensorflow as tf\n",
        "from keras.models import Sequential, load_model\n",
        "from keras.layers import Dense\n",
        "from sklearn.model_selection import train_test_split"
      ],
      "metadata": {
        "id": "p8UC6veShDBM"
      },
      "execution_count": 12,
      "outputs": []
    },
    {
      "cell_type": "markdown",
      "source": [
        "#### Defining useful functions"
      ],
      "metadata": {
        "id": "s5lH0PTqRpTW"
      }
    },
    {
      "cell_type": "code",
      "source": [
        "#Function for the calcualtion of the mean square error\n",
        "def meanSquareError(x,y):\n",
        "  return tf.reduce_mean(tf.square(x - y))"
      ],
      "metadata": {
        "id": "xBgcSETcRnlX"
      },
      "execution_count": 13,
      "outputs": []
    },
    {
      "cell_type": "code",
      "source": [
        "#Function for the calculation of the coefficient of determination, R^2\n",
        "def R2(yModel, yCorr):\n",
        "  return (1 - (tf.reduce_sum(tf.square(yModel - yCorr)) / tf.reduce_sum(tf.square(yModel - (tf.reduce_mean(yModel)))))).numpy()"
      ],
      "metadata": {
        "id": "HCVOF0nPSCwB"
      },
      "execution_count": 14,
      "outputs": []
    },
    {
      "cell_type": "markdown",
      "source": [
        "#### Setting the parameters"
      ],
      "metadata": {
        "id": "e0Efx9Q8hDBO"
      }
    },
    {
      "cell_type": "markdown",
      "source": [
        "The parameters are the same as in the case of the numerical solver from the library SciPy. Therefore, we just need to set the random seed also for TensorFlow"
      ],
      "metadata": {
        "id": "ubgtD9qvhDBQ"
      }
    },
    {
      "cell_type": "code",
      "source": [
        "tf.random.set_seed(1234)"
      ],
      "metadata": {
        "id": "wUslGmCEhDBS"
      },
      "execution_count": 15,
      "outputs": []
    },
    {
      "cell_type": "markdown",
      "source": [
        "and specify the type of floats we want to work with"
      ],
      "metadata": {
        "id": "bxCn_VKmhDBT"
      }
    },
    {
      "cell_type": "code",
      "source": [
        "# Set data type\n",
        "DTYPE='float64'\n",
        "tf.keras.backend.set_floatx(DTYPE)"
      ],
      "metadata": {
        "id": "bJFJl-EbhDBV"
      },
      "execution_count": 16,
      "outputs": []
    },
    {
      "cell_type": "markdown",
      "source": [
        "#### Building the network"
      ],
      "metadata": {
        "id": "qmCMWt4KhDBY"
      }
    },
    {
      "cell_type": "code",
      "source": [
        "networkUnsupervised = Sequential()\n",
        "networkUnsupervised.add(Dense(20, input_shape=(1,), activation=\"tanh\", kernel_initializer='glorot_normal'))\n",
        "networkUnsupervised.add(Dense(20, activation=\"tanh\", kernel_initializer='glorot_normal'))\n",
        "networkUnsupervised.add(Dense(1))\n",
        "\n",
        "networkUnsupervised.summary()"
      ],
      "metadata": {
        "colab": {
          "base_uri": "https://localhost:8080/"
        },
        "outputId": "f6609600-3815-4f9a-bc93-c41a6ce457b7",
        "id": "B1wkEA3WhDBb"
      },
      "execution_count": 17,
      "outputs": [
        {
          "output_type": "stream",
          "name": "stdout",
          "text": [
            "Model: \"sequential\"\n",
            "_________________________________________________________________\n",
            " Layer (type)                Output Shape              Param #   \n",
            "=================================================================\n",
            " dense (Dense)               (None, 20)                40        \n",
            "                                                                 \n",
            " dense_1 (Dense)             (None, 20)                420       \n",
            "                                                                 \n",
            " dense_2 (Dense)             (None, 1)                 21        \n",
            "                                                                 \n",
            "=================================================================\n",
            "Total params: 481\n",
            "Trainable params: 481\n",
            "Non-trainable params: 0\n",
            "_________________________________________________________________\n"
          ]
        }
      ]
    },
    {
      "cell_type": "markdown",
      "source": [
        "#### Definition of the routines to determine loss and gradient\n"
      ],
      "metadata": {
        "id": "KZTecnQkhDBd"
      }
    },
    {
      "cell_type": "code",
      "source": [
        "#Residual of the differential equation\n",
        "def residual(f, dfdx, dfdxx, dfdxxx):\n",
        "  return dfdxxx + (0.5*f*dfdxx)"
      ],
      "metadata": {
        "id": "778I8-QXhDBe"
      },
      "execution_count": 18,
      "outputs": []
    },
    {
      "cell_type": "code",
      "source": [
        "#Function to calculate the derivatives of the model\n",
        "def derivativeCalculation(model, x):\n",
        "    #The function tf.GradientTape is used to compute derivatives in TensorFlow\n",
        "    with tf.GradientTape(persistent=True) as tape:\n",
        "      #The variable x is watched during tape to compute the derivative dfdx\n",
        "      tape.watch(x)\n",
        "\n",
        "      # Determine residual\n",
        "      f = model(x)\n",
        "\n",
        "      # Compute following derivatives\n",
        "      dfdx = tape.gradient(f, x)\n",
        "      dfdxx = tape.gradient(dfdx, x)\n",
        "      dfdxxx = tape.gradient(dfdxx, x)\n",
        "\n",
        "      del tape\n",
        "\n",
        "    return [f, dfdx, dfdxx, dfdxxx]"
      ],
      "metadata": {
        "id": "MtX99ihWhDBf"
      },
      "execution_count": 19,
      "outputs": []
    },
    {
      "cell_type": "code",
      "source": [
        "#Function to calculate the residual of the model\n",
        "def residualCalculation(model, x):\n",
        "    f, dfdx, dfdxx, dfdxxx = derivativeCalculation(model, x)\n",
        "    return residual(f, dfdx, dfdxx, dfdxxx)"
      ],
      "metadata": {
        "id": "4JASKn2ShDBg"
      },
      "execution_count": 20,
      "outputs": []
    },
    {
      "cell_type": "markdown",
      "source": [
        "One has now all the elements to calculate the custom loss function used in PINNs\n",
        "\n",
        "As already mentioned in this case we will consider only the error deriving from the residual of the differential equation and the one related to the boundary conditions"
      ],
      "metadata": {
        "id": "lCocirAyhDBi"
      }
    },
    {
      "cell_type": "code",
      "source": [
        "def computeLossUnsupervised(model, x, xmin, xmax):\n",
        "  bl1 = tf.zeros(x.shape, dtype=DTYPE)\n",
        "  bl2 = tf.zeros(x.shape, dtype=DTYPE)\n",
        "  br = tf.ones(x.shape, dtype=DTYPE)\n",
        "\n",
        "  xminVec = tf.zeros(x.shape, dtype=DTYPE)+xmin\n",
        "  xmaxVec = tf.zeros(x.shape, dtype=DTYPE)+xmax\n",
        "\n",
        "  leftBoundary = derivativeCalculation(model,xminVec) #Value of the model on the left boundary\n",
        "  rightBoundary = derivativeCalculation(model,xmaxVec) #Value of the model on the right boundary\n",
        "\n",
        "  #Loss with respect to the residual of the differential equation\n",
        "  loss = tf.reduce_mean(tf.square(residualCalculation(model, x)))\n",
        "\n",
        "  #Loss with respect to the boundary conditions\n",
        "  loss += tf.reduce_mean(tf.square(leftBoundary[0]-bl1))\n",
        "  loss += tf.reduce_mean(tf.square(leftBoundary[1]-bl2))\n",
        "  loss += tf.reduce_mean(tf.square(rightBoundary[1]-br))\n",
        "\n",
        "  return loss"
      ],
      "metadata": {
        "id": "xOxH1U6lhDBj"
      },
      "execution_count": 21,
      "outputs": []
    },
    {
      "cell_type": "markdown",
      "metadata": {
        "id": "yh5uW0czhDBl"
      },
      "source": [
        "From the custom loss just defined, one can then define the custom function for computing the gradient of the model"
      ]
    },
    {
      "cell_type": "code",
      "execution_count": 22,
      "metadata": {
        "id": "SQHYwNPxhDBl"
      },
      "outputs": [],
      "source": [
        "def computeGradientUnsupervised(model, x, xmin, xmax):\n",
        "  with tf.GradientTape(persistent=True) as tape:\n",
        "    # This tape is for derivatives with respect to trainable variables\n",
        "    tape.watch(model.trainable_variables)\n",
        "    loss = computeLossUnsupervised(model, x, xmin, xmax)\n",
        "\n",
        "    gradient = tape.gradient(loss, model.trainable_variables)\n",
        "\n",
        "    del tape\n",
        "\n",
        "  return loss, gradient"
      ]
    },
    {
      "cell_type": "markdown",
      "metadata": {
        "id": "mqZU5xi_hDBm"
      },
      "source": [
        "#### Definition of the training function"
      ]
    },
    {
      "cell_type": "markdown",
      "metadata": {
        "id": "MSMVEon1hDBn"
      },
      "source": [
        "One needs then to define a custom training function using the custom gradient and loss functions defined above"
      ]
    },
    {
      "cell_type": "code",
      "execution_count": 23,
      "metadata": {
        "id": "9JkKx8P2hDBn"
      },
      "outputs": [],
      "source": [
        "#Learning rate\n",
        "lr = 0.001\n",
        "\n",
        "#Definition of the optimizer\n",
        "optimizer = tf.keras.optimizers.Adam(learning_rate=lr)"
      ]
    },
    {
      "cell_type": "code",
      "source": [
        "#Compiling the network\n",
        "networkUnsupervised.compile(optimizer=optimizer)"
      ],
      "metadata": {
        "id": "LNauFDgqSlIK"
      },
      "execution_count": 24,
      "outputs": []
    },
    {
      "cell_type": "code",
      "execution_count": 25,
      "metadata": {
        "id": "DmErShIdhDBo"
      },
      "outputs": [],
      "source": [
        "#Function that does the train step\n",
        "@tf.function\n",
        "def trainStepUnsupervised(model, x, xmin, xmax, optim):\n",
        "  loss, gradient = computeGradientUnsupervised(model, x, xmin, xmax)\n",
        "  optim.apply_gradients(zip(gradient, model.trainable_variables))\n",
        "\n",
        "  return loss"
      ]
    },
    {
      "cell_type": "markdown",
      "source": [
        "The weights and biases of the network are updated using the gradient descend algorithm"
      ],
      "metadata": {
        "id": "lXpCpXNjWNaM"
      }
    },
    {
      "cell_type": "markdown",
      "metadata": {
        "id": "tKUdnG4nhDBp"
      },
      "source": [
        "#### Training of the network"
      ]
    },
    {
      "cell_type": "code",
      "source": [
        "#Splitting the data into training and validation set\n",
        "testSetSize = int(0.1*numPoints)\n",
        "trainingSetSize = numPoints - testSetSize\n",
        "print('Training set size: ', trainingSetSize)\n",
        "print('Test set size: ', testSetSize)\n",
        "\n",
        "xTraining, xTest, yTraining, yTest = train_test_split(eta, numericalSolution.y[0], test_size=testSetSize, random_state=1234)\n",
        "xTest = tf.convert_to_tensor(np.reshape(xTest, (testSetSize,1)), dtype=DTYPE)\n",
        "xTraining = tf.convert_to_tensor(np.reshape(xTraining, (trainingSetSize,1)), dtype=DTYPE)\n",
        "yTest = tf.convert_to_tensor(np.reshape(yTest, (testSetSize,1)), dtype=DTYPE)\n",
        "yTraining = tf.convert_to_tensor(np.reshape(yTraining, (trainingSetSize,1)), dtype=DTYPE)"
      ],
      "metadata": {
        "id": "fzgpzotLrf8E",
        "colab": {
          "base_uri": "https://localhost:8080/"
        },
        "outputId": "60bfa917-7fd4-40d5-8721-06303b22c0b4"
      },
      "execution_count": 26,
      "outputs": [
        {
          "output_type": "stream",
          "name": "stdout",
          "text": [
            "Training set size:  90000\n",
            "Test set size:  10000\n"
          ]
        }
      ]
    },
    {
      "cell_type": "markdown",
      "source": [
        "For the training of the network to work and be effective, we had to convert all the tensors containing the data in the shape [[$d_1$], [$d_2$], ..., [$d_n$]]"
      ],
      "metadata": {
        "id": "uqHi5vpbUQ0-"
      }
    },
    {
      "cell_type": "code",
      "execution_count": 27,
      "metadata": {
        "id": "gmwnArbGhDBq"
      },
      "outputs": [],
      "source": [
        "#Training parameters\n",
        "nEpochs = 100\n",
        "nBatches = 100\n",
        "\n",
        "#Array to store the history of loss values of the network\n",
        "historyTrainingUnsupervised = [] #Array containing the history of the mean losses of any epoch of training\n",
        "historyTestNetworkUnsupervised = [] #Array containing the history of the losses calculated on the test set at the end of every epoch of training\n",
        "historyTestMSEUnsupervised = [] #Array containing the history of the losses calculated as MSE with respect to the \"empirical\" data. They are calculated on the test set at the end of every epoch of training\n",
        "\n",
        "#For a basic implementation of early stopping\n",
        "patience = 3\n",
        "wait = 0"
      ]
    },
    {
      "cell_type": "code",
      "source": [
        "tInit = time()\n",
        "\n",
        "#Dimension of the batches\n",
        "batchSize = round(trainingSetSize/nBatches)\n",
        "\n",
        "#Loop around the number of epochs\n",
        "for i in range(nEpochs):\n",
        "  historyCompleteTrainingUnsupervised = [] #Array to store the losses calculated during traing with respect to every batch\n",
        "  #Loop around\n",
        "  for j in range(nBatches):\n",
        "    lossTrainingBatch = trainStepUnsupervised(networkUnsupervised, xTraining[j*batchSize:((j+1)*batchSize)-1,:], xmin, xmax, optimizer)\n",
        "\n",
        "    #Append current loss to historyCompleteTrainingUnsupervised\n",
        "    historyCompleteTrainingUnsupervised.append(lossTrainingBatch)\n",
        "\n",
        "  #Appends to historyTrainingUnsupervised the mean loss of the current epoch\n",
        "  historyTrainingUnsupervised.append(np.mean(historyCompleteTrainingUnsupervised))\n",
        "\n",
        "  #Calculation of loss for test values\n",
        "  testLossNetworkUnsupervised = computeLossUnsupervised(networkUnsupervised, xTest, xmin, xmax)\n",
        "  historyTestNetworkUnsupervised.append(testLossNetworkUnsupervised)\n",
        "\n",
        "  testLossMSEUnsupervised = meanSquareError(networkUnsupervised(xTest), yTest)\n",
        "  historyTestMSEUnsupervised.append(testLossMSEUnsupervised)\n",
        "\n",
        "  #Output of the mean loss of the current epoch along with the loss associated to the test set calculated both with respecte to the custom lost function defined for the network and as mean square error\n",
        "  print('Epoch {:03d}: Mean loss training = {:10.8e}, Test loss (network loss) = {:10.8e}, Test loss (MSE) = {:10.8e}'.format(i,np.mean(historyCompleteTrainingUnsupervised),testLossNetworkUnsupervised, testLossMSEUnsupervised))\n",
        "\n",
        "  #Simple implementation of early stopping\n",
        "  #Stop the training if the loss on the test set does not decrease over a certain number of epochs.\n",
        "  if i > 1: #Check that we are not in the first iteration of the training process\n",
        "    #If the loss does not decrease, the wait value is incresed by one\n",
        "    if testLossNetworkUnsupervised > historyTestNetworkUnsupervised[-2]:\n",
        "      wait += 1\n",
        "    #If the loss decreases the wait variable is set again to zero and the network state is saved\n",
        "    else:\n",
        "      wait = 0\n",
        "      networkUnsupervised.save(\"networkUnsupervised.keras\")\n",
        "  if wait >= patience:#If wait is equal to patience then execute early stopping\n",
        "    print('--- Early stopping ---')\n",
        "    #Loading the last model before the loss started to increase\n",
        "    networkUnsupervised = load_model(\"networkUnsupervised.keras\")\n",
        "    break\n",
        "\n",
        "\n",
        "#Print computation timelossTrainingBatch\n",
        "tUnsupervisedPINN = time() - tInit\n",
        "print('\\nComputation time for supervised PINN: {} seconds'.format(tUnsupervisedPINN))"
      ],
      "metadata": {
        "colab": {
          "base_uri": "https://localhost:8080/"
        },
        "outputId": "4d6b08a7-a452-40db-f60d-071372a0cc40",
        "id": "k4CCmyTBhDBt"
      },
      "execution_count": 28,
      "outputs": [
        {
          "output_type": "stream",
          "name": "stderr",
          "text": [
            "WARNING:tensorflow:Calling GradientTape.gradient on a persistent tape inside its context is significantly less efficient than calling it outside the context (it causes the gradient ops to be recorded on the tape, leading to increased CPU and memory usage). Only call GradientTape.gradient inside the context if you actually want to trace the gradient in order to compute higher order derivatives.\n",
            "WARNING:tensorflow:Calling GradientTape.gradient on a persistent tape inside its context is significantly less efficient than calling it outside the context (it causes the gradient ops to be recorded on the tape, leading to increased CPU and memory usage). Only call GradientTape.gradient inside the context if you actually want to trace the gradient in order to compute higher order derivatives.\n",
            "WARNING:tensorflow:Calling GradientTape.gradient on a persistent tape inside its context is significantly less efficient than calling it outside the context (it causes the gradient ops to be recorded on the tape, leading to increased CPU and memory usage). Only call GradientTape.gradient inside the context if you actually want to trace the gradient in order to compute higher order derivatives.\n",
            "WARNING:tensorflow:Calling GradientTape.gradient on a persistent tape inside its context is significantly less efficient than calling it outside the context (it causes the gradient ops to be recorded on the tape, leading to increased CPU and memory usage). Only call GradientTape.gradient inside the context if you actually want to trace the gradient in order to compute higher order derivatives.\n"
          ]
        },
        {
          "output_type": "stream",
          "name": "stdout",
          "text": [
            "Epoch 000: Mean loss training = 6.65857520e-01, Test loss (network loss) = 2.67187229e-01, Test loss (MSE) = 5.58730605e-01\n",
            "Epoch 001: Mean loss training = 1.05809360e-01, Test loss (network loss) = 2.82512248e-02, Test loss (MSE) = 2.04403061e-01\n",
            "Epoch 002: Mean loss training = 1.49618659e-02, Test loss (network loss) = 8.76588696e-03, Test loss (MSE) = 1.26853802e-01\n",
            "Epoch 003: Mean loss training = 6.78697766e-03, Test loss (network loss) = 5.34730045e-03, Test loss (MSE) = 1.06023279e-01\n",
            "Epoch 004: Mean loss training = 4.41194257e-03, Test loss (network loss) = 3.61761539e-03, Test loss (MSE) = 8.29301832e-02\n",
            "Epoch 005: Mean loss training = 2.96963834e-03, Test loss (network loss) = 2.39763311e-03, Test loss (MSE) = 5.70949518e-02\n",
            "Epoch 006: Mean loss training = 1.93001705e-03, Test loss (network loss) = 1.54908624e-03, Test loss (MSE) = 3.25090972e-02\n",
            "Epoch 007: Mean loss training = 1.27034701e-03, Test loss (network loss) = 1.06134231e-03, Test loss (MSE) = 1.66201877e-02\n",
            "Epoch 008: Mean loss training = 9.06940536e-04, Test loss (network loss) = 7.91437783e-04, Test loss (MSE) = 8.67901983e-03\n",
            "Epoch 009: Mean loss training = 6.95265190e-04, Test loss (network loss) = 6.21110843e-04, Test loss (MSE) = 5.06559294e-03\n",
            "Epoch 010: Mean loss training = 5.53467475e-04, Test loss (network loss) = 5.00367342e-04, Test loss (MSE) = 3.26151358e-03\n",
            "Epoch 011: Mean loss training = 4.50195993e-04, Test loss (network loss) = 4.10338119e-04, Test loss (MSE) = 2.20831778e-03\n",
            "Epoch 012: Mean loss training = 3.71833705e-04, Test loss (network loss) = 3.40926364e-04, Test loss (MSE) = 1.54851083e-03\n",
            "Epoch 013: Mean loss training = 3.10530783e-04, Test loss (network loss) = 2.85595777e-04, Test loss (MSE) = 1.13819891e-03\n",
            "Epoch 014: Mean loss training = 2.61213584e-04, Test loss (network loss) = 2.40859581e-04, Test loss (MSE) = 8.36792037e-04\n",
            "Epoch 015: Mean loss training = 2.20669677e-04, Test loss (network loss) = 2.03667533e-04, Test loss (MSE) = 6.05303670e-04\n",
            "Epoch 016: Mean loss training = 1.86790834e-04, Test loss (network loss) = 1.72407548e-04, Test loss (MSE) = 4.32758476e-04\n",
            "Epoch 017: Mean loss training = 1.58163457e-04, Test loss (network loss) = 1.46090913e-04, Test loss (MSE) = 3.01914171e-04\n",
            "Epoch 018: Mean loss training = 1.33803949e-04, Test loss (network loss) = 1.23273013e-04, Test loss (MSE) = 2.14045778e-04\n",
            "Epoch 019: Mean loss training = 1.13005028e-04, Test loss (network loss) = 1.04119084e-04, Test loss (MSE) = 1.53983906e-04\n",
            "Epoch 020: Mean loss training = 9.51516178e-05, Test loss (network loss) = 8.73823830e-05, Test loss (MSE) = 1.09972479e-04\n",
            "Epoch 021: Mean loss training = 7.98526569e-05, Test loss (network loss) = 7.30760041e-05, Test loss (MSE) = 8.03656866e-05\n",
            "Epoch 022: Mean loss training = 6.66670818e-05, Test loss (network loss) = 6.08068133e-05, Test loss (MSE) = 5.66543031e-05\n",
            "Epoch 023: Mean loss training = 5.53406605e-05, Test loss (network loss) = 5.03073910e-05, Test loss (MSE) = 3.74300261e-05\n",
            "Epoch 024: Mean loss training = 4.56553498e-05, Test loss (network loss) = 4.13187886e-05, Test loss (MSE) = 2.79688964e-05\n",
            "Epoch 025: Mean loss training = 3.73805365e-05, Test loss (network loss) = 3.37370850e-05, Test loss (MSE) = 2.11088177e-05\n",
            "Epoch 026: Mean loss training = 3.03967244e-05, Test loss (network loss) = 2.72834535e-05, Test loss (MSE) = 1.46159267e-05\n",
            "Epoch 027: Mean loss training = 2.46136045e-05, Test loss (network loss) = 2.23036489e-05, Test loss (MSE) = 1.27799150e-05\n",
            "Epoch 028: Mean loss training = 1.98422221e-05, Test loss (network loss) = 1.78046118e-05, Test loss (MSE) = 9.17703415e-06\n",
            "Epoch 029: Mean loss training = 1.60750403e-05, Test loss (network loss) = 1.43633275e-05, Test loss (MSE) = 6.07826920e-06\n",
            "Epoch 030: Mean loss training = 1.32195717e-05, Test loss (network loss) = 1.17614541e-05, Test loss (MSE) = 4.64810424e-06\n",
            "Epoch 031: Mean loss training = 1.14853956e-05, Test loss (network loss) = 1.55104838e-05, Test loss (MSE) = 3.37862144e-06\n",
            "Epoch 032: Mean loss training = 9.94976878e-06, Test loss (network loss) = 8.36753539e-06, Test loss (MSE) = 3.06038539e-06\n",
            "Epoch 033: Mean loss training = 8.34170955e-06, Test loss (network loss) = 8.85092116e-06, Test loss (MSE) = 2.47337153e-06\n",
            "Epoch 034: Mean loss training = 9.00884372e-06, Test loss (network loss) = 6.43737239e-06, Test loss (MSE) = 1.82361306e-06\n",
            "Epoch 035: Mean loss training = 7.43195914e-06, Test loss (network loss) = 8.87048737e-06, Test loss (MSE) = 2.14338883e-06\n",
            "Epoch 036: Mean loss training = 6.36498351e-06, Test loss (network loss) = 5.76817408e-06, Test loss (MSE) = 1.21861970e-06\n",
            "Epoch 037: Mean loss training = 6.67663405e-06, Test loss (network loss) = 6.57101825e-06, Test loss (MSE) = 4.85330434e-07\n",
            "Epoch 038: Mean loss training = 6.50317469e-06, Test loss (network loss) = 4.72830284e-06, Test loss (MSE) = 2.71979614e-07\n",
            "Epoch 039: Mean loss training = 6.07319261e-06, Test loss (network loss) = 4.25489604e-06, Test loss (MSE) = 1.24838770e-07\n",
            "Epoch 040: Mean loss training = 5.29613459e-06, Test loss (network loss) = 4.99834128e-06, Test loss (MSE) = 1.01311258e-06\n",
            "Epoch 041: Mean loss training = 6.30592492e-06, Test loss (network loss) = 1.55533355e-05, Test loss (MSE) = 5.90360847e-06\n",
            "Epoch 042: Mean loss training = 6.99400288e-06, Test loss (network loss) = 4.83728398e-06, Test loss (MSE) = 6.76726539e-07\n",
            "Epoch 043: Mean loss training = 4.21508586e-06, Test loss (network loss) = 3.16186792e-06, Test loss (MSE) = 1.81449647e-07\n",
            "Epoch 044: Mean loss training = 6.09883423e-06, Test loss (network loss) = 5.78747971e-06, Test loss (MSE) = 2.53709116e-06\n",
            "Epoch 045: Mean loss training = 6.99901684e-06, Test loss (network loss) = 3.30327100e-06, Test loss (MSE) = 3.58661591e-08\n",
            "Epoch 046: Mean loss training = 5.11883166e-06, Test loss (network loss) = 2.06012759e-05, Test loss (MSE) = 3.31309466e-05\n",
            "Epoch 047: Mean loss training = 4.73559138e-06, Test loss (network loss) = 1.05859899e-05, Test loss (MSE) = 2.15674140e-06\n",
            "Epoch 048: Mean loss training = 7.68450098e-06, Test loss (network loss) = 2.50514704e-06, Test loss (MSE) = 2.20825529e-07\n",
            "Epoch 049: Mean loss training = 4.20946990e-06, Test loss (network loss) = 2.26595237e-06, Test loss (MSE) = 1.14420235e-06\n",
            "Epoch 050: Mean loss training = 5.20956450e-06, Test loss (network loss) = 2.83982041e-06, Test loss (MSE) = 3.33386847e-07\n",
            "Epoch 051: Mean loss training = 5.30721388e-06, Test loss (network loss) = 9.44752589e-06, Test loss (MSE) = 2.30342991e-06\n",
            "Epoch 052: Mean loss training = 7.75816060e-06, Test loss (network loss) = 4.59183090e-06, Test loss (MSE) = 9.63943738e-06\n",
            "Epoch 053: Mean loss training = 5.25139739e-06, Test loss (network loss) = 4.13529399e-06, Test loss (MSE) = 8.02183473e-07\n",
            "Epoch 054: Mean loss training = 4.80746022e-06, Test loss (network loss) = 3.83836348e-06, Test loss (MSE) = 3.85832266e-06\n",
            "Epoch 055: Mean loss training = 3.90975110e-06, Test loss (network loss) = 1.12386736e-05, Test loss (MSE) = 2.12846117e-05\n",
            "Epoch 056: Mean loss training = 7.40297143e-06, Test loss (network loss) = 1.71799522e-06, Test loss (MSE) = 1.48857745e-07\n",
            "Epoch 057: Mean loss training = 4.84270444e-06, Test loss (network loss) = 1.72410277e-06, Test loss (MSE) = 4.07454707e-07\n",
            "Epoch 058: Mean loss training = 5.94899759e-06, Test loss (network loss) = 1.19644751e-05, Test loss (MSE) = 1.15745727e-05\n",
            "Epoch 059: Mean loss training = 6.41308235e-06, Test loss (network loss) = 2.53660171e-06, Test loss (MSE) = 2.04050905e-06\n",
            "Epoch 060: Mean loss training = 3.70399985e-06, Test loss (network loss) = 7.77629603e-06, Test loss (MSE) = 1.22825685e-06\n",
            "Epoch 061: Mean loss training = 4.82673853e-06, Test loss (network loss) = 9.43356030e-06, Test loss (MSE) = 1.66900329e-06\n",
            "Epoch 062: Mean loss training = 9.43530931e-06, Test loss (network loss) = 1.76634467e-06, Test loss (MSE) = 1.90016775e-06\n",
            "Epoch 063: Mean loss training = 3.18814293e-06, Test loss (network loss) = 4.47118759e-06, Test loss (MSE) = 7.02675262e-06\n",
            "Epoch 064: Mean loss training = 6.28489123e-06, Test loss (network loss) = 8.75906389e-06, Test loss (MSE) = 1.40309576e-06\n",
            "Epoch 065: Mean loss training = 5.57695286e-06, Test loss (network loss) = 4.38913238e-06, Test loss (MSE) = 4.00224297e-07\n",
            "Epoch 066: Mean loss training = 6.66962875e-06, Test loss (network loss) = 7.19478085e-06, Test loss (MSE) = 7.56622496e-06\n",
            "Epoch 067: Mean loss training = 5.43521068e-06, Test loss (network loss) = 1.32478549e-06, Test loss (MSE) = 1.53756651e-06\n",
            "Epoch 068: Mean loss training = 4.75402266e-06, Test loss (network loss) = 9.62514802e-07, Test loss (MSE) = 2.71147189e-09\n",
            "Epoch 069: Mean loss training = 6.76002445e-06, Test loss (network loss) = 1.57022102e-06, Test loss (MSE) = 5.57527929e-08\n",
            "Epoch 070: Mean loss training = 3.92100433e-06, Test loss (network loss) = 1.50344153e-05, Test loss (MSE) = 4.16540442e-06\n",
            "Epoch 071: Mean loss training = 4.07040957e-06, Test loss (network loss) = 2.92328872e-06, Test loss (MSE) = 2.62832546e-06\n",
            "Epoch 072: Mean loss training = 6.17935445e-06, Test loss (network loss) = 3.40067234e-06, Test loss (MSE) = 5.57877274e-06\n",
            "Epoch 073: Mean loss training = 5.98180271e-06, Test loss (network loss) = 3.45116365e-06, Test loss (MSE) = 5.54519450e-06\n",
            "Epoch 074: Mean loss training = 4.85256492e-06, Test loss (network loss) = 5.35092850e-06, Test loss (MSE) = 4.84860562e-06\n",
            "--- Early stopping ---\n",
            "\n",
            "Computation time for supervised PINN: 51.43081188201904 seconds\n"
          ]
        }
      ]
    },
    {
      "cell_type": "markdown",
      "source": [
        "**NOTE**: The warning on `GradientTape` was ignored, since we what to compute the higher order derivatives"
      ],
      "metadata": {
        "id": "KTkU6y9WBbiE"
      }
    },
    {
      "cell_type": "markdown",
      "source": [
        "#### Plotting the results"
      ],
      "metadata": {
        "id": "v-8wZlV1hDBu"
      }
    },
    {
      "cell_type": "code",
      "source": [
        "plt.plot(numericalSolution.x, numericalSolution.y[0], label='SciPy numerical solution')\n",
        "plt.plot(eta, tf.reshape(networkUnsupervised(np.reshape(eta, (numPoints,1))), [numPoints]), label='Solution of unsupervised model')\n",
        "plt.title('Unsupervised learning')\n",
        "plt.ylabel('f(x)')\n",
        "plt.xlabel('x')\n",
        "plt.legend()\n",
        "plt.show()"
      ],
      "metadata": {
        "colab": {
          "base_uri": "https://localhost:8080/",
          "height": 472
        },
        "outputId": "130b4c76-1679-46ea-c1e7-1b8774a6b7e8",
        "id": "hOoYF7r4hDBv"
      },
      "execution_count": 29,
      "outputs": [
        {
          "output_type": "display_data",
          "data": {
            "text/plain": [
              "<Figure size 640x480 with 1 Axes>"
            ],
            "image/png": "[encoded data removed]"
          },
          "metadata": {}
        }
      ]
    },
    {
      "cell_type": "code",
      "source": [
        "plt.plot(range(len(historyTrainingUnsupervised)),historyTrainingUnsupervised, label='Training loss')\n",
        "plt.plot(range(len(historyTestNetworkUnsupervised)),historyTestNetworkUnsupervised, label='Test loss (custom)')\n",
        "plt.plot(range(len(historyTestMSEUnsupervised)),historyTestMSEUnsupervised, label='Test loss (MSE)')\n",
        "plt.title('Unsupervised model loss')\n",
        "plt.ylabel('Loss')\n",
        "plt.xlabel('Epochs')\n",
        "plt.legend()\n",
        "plt.show()"
      ],
      "metadata": {
        "colab": {
          "base_uri": "https://localhost:8080/",
          "height": 472
        },
        "outputId": "2e6107ff-e555-41b1-ab4d-daef644c1b50",
        "id": "O-olJMOlhDBw"
      },
      "execution_count": 30,
      "outputs": [
        {
          "output_type": "display_data",
          "data": {
            "text/plain": [
              "<Figure size 640x480 with 1 Axes>"
            ],
            "image/png": "[encoded data removed]"
          },
          "metadata": {}
        }
      ]
    },
    {
      "cell_type": "markdown",
      "source": [
        "#### Quality of the model"
      ],
      "metadata": {
        "id": "fFk0H7tVWCVK"
      }
    },
    {
      "cell_type": "markdown",
      "source": [
        "To conclude our analysis of the model, we calculate the R^2 value to determine the quality of our model"
      ],
      "metadata": {
        "id": "kux52VVIWaoe"
      }
    },
    {
      "cell_type": "code",
      "source": [
        "R2(tf.reshape(networkUnsupervised(np.reshape(eta, (numPoints,1))), [np.size(eta)]), numericalSolution.y[0])"
      ],
      "metadata": {
        "colab": {
          "base_uri": "https://localhost:8080/"
        },
        "id": "eoCTG5xAW1Rx",
        "outputId": "e6f94400-a8c2-47a8-dc5b-01318f127bcb"
      },
      "execution_count": 31,
      "outputs": [
        {
          "output_type": "execute_result",
          "data": {
            "text/plain": [
              "0.9999975181841056"
            ]
          },
          "metadata": {},
          "execution_count": 31
        }
      ]
    },
    {
      "cell_type": "markdown",
      "source": [
        "The accordance between the values calculated using the PINN and the data (the numerical values reconstructed using the solve_bvp function) is extremely good, almost perfect\n",
        "\n",
        "\n"
      ],
      "metadata": {
        "id": "7ay5kmoxWuVB"
      }
    },
    {
      "cell_type": "markdown",
      "source": [
        "### Implementation from scratch of the algorithm (Supervised)"
      ],
      "metadata": {
        "id": "ZvtbHS0uYdMw"
      }
    },
    {
      "cell_type": "markdown",
      "source": [
        "Now we will proceed to implement the PINN in the supervised case, meaning that in the loss function we will consider also the term related to the known data. Substantially, we are supposing that we do have empirical data that could help training the network\n",
        "\n",
        "As known data we will use the values obtained from the numerical reconstruction of the solution through the solve_bvp function"
      ],
      "metadata": {
        "id": "GA7GY4Yzoce6"
      }
    },
    {
      "cell_type": "markdown",
      "source": [
        "**NOTE**: For the following implementation, reference was made to Refs. [2, 3, 4, 6, 7, 8, 9]"
      ],
      "metadata": {
        "id": "zQDjR9-PYKuU"
      }
    },
    {
      "cell_type": "markdown",
      "source": [
        "#### Importing the libraries"
      ],
      "metadata": {
        "id": "F_c8G_tZYvg0"
      }
    },
    {
      "cell_type": "markdown",
      "source": [
        "All the required libraries have already been imported when developing the unsupervised model"
      ],
      "metadata": {
        "id": "ZHK5RF7Po3EE"
      }
    },
    {
      "cell_type": "markdown",
      "source": [
        "#### Setting the parameters"
      ],
      "metadata": {
        "id": "k3bgP73LZY4O"
      }
    },
    {
      "cell_type": "markdown",
      "source": [
        "All the required parameters have already been set when developing the unsupervised model"
      ],
      "metadata": {
        "id": "x1k3hrjwpOAu"
      }
    },
    {
      "cell_type": "markdown",
      "source": [
        "#### Building the network"
      ],
      "metadata": {
        "id": "geaxLi_6aFct"
      }
    },
    {
      "cell_type": "code",
      "source": [
        "networkSupervised = Sequential()\n",
        "networkSupervised.add(Dense(20, input_shape=(1,), activation=\"tanh\", kernel_initializer='glorot_normal'))\n",
        "networkSupervised.add(Dense(20, activation=\"tanh\", kernel_initializer='glorot_normal'))\n",
        "networkSupervised.add(Dense(1))\n",
        "\n",
        "networkSupervised.summary()"
      ],
      "metadata": {
        "colab": {
          "base_uri": "https://localhost:8080/"
        },
        "id": "9mZoO0dZq4br",
        "outputId": "5bbd6d2e-2911-4a0a-ee09-7ee49d21a7e2"
      },
      "execution_count": 32,
      "outputs": [
        {
          "output_type": "stream",
          "name": "stdout",
          "text": [
            "Model: \"sequential_1\"\n",
            "_________________________________________________________________\n",
            " Layer (type)                Output Shape              Param #   \n",
            "=================================================================\n",
            " dense_3 (Dense)             (None, 20)                40        \n",
            "                                                                 \n",
            " dense_4 (Dense)             (None, 20)                420       \n",
            "                                                                 \n",
            " dense_5 (Dense)             (None, 1)                 21        \n",
            "                                                                 \n",
            "=================================================================\n",
            "Total params: 481\n",
            "Trainable params: 481\n",
            "Non-trainable params: 0\n",
            "_________________________________________________________________\n"
          ]
        }
      ]
    },
    {
      "cell_type": "markdown",
      "source": [
        "#### Definition of the routines to determine loss and gradient\n"
      ],
      "metadata": {
        "id": "Wjy3XeYYbg-P"
      }
    },
    {
      "cell_type": "code",
      "source": [
        "#Residual of the  differential equation\n",
        "def residual(f, dfdx, dfdxx, dfdxxx):\n",
        "  return dfdxxx + (0.5*f*dfdxx)"
      ],
      "metadata": {
        "id": "q9gZ-HmppMsp"
      },
      "execution_count": 33,
      "outputs": []
    },
    {
      "cell_type": "code",
      "source": [
        "#Function to calculate the derivatives of the model\n",
        "def derivativeCalculation(model, x):\n",
        "    #The function tf.GradientTape is used to compute derivatives in TensorFlow\n",
        "    with tf.GradientTape(persistent=True) as tape:\n",
        "      #The variable x is watched during tape to compute the derivative dfdx\n",
        "      tape.watch(x)\n",
        "\n",
        "      # Determine residual\n",
        "      f = model(x)\n",
        "\n",
        "      # Compute following derivatives\n",
        "      dfdx = tape.gradient(f, x)\n",
        "      dfdxx = tape.gradient(dfdx, x)\n",
        "      dfdxxx = tape.gradient(dfdxx, x)\n",
        "\n",
        "      del tape\n",
        "\n",
        "    return [f, dfdx, dfdxx, dfdxxx]"
      ],
      "metadata": {
        "id": "JFGt3lGGxr83"
      },
      "execution_count": 34,
      "outputs": []
    },
    {
      "cell_type": "code",
      "source": [
        "#Function to calculate the residual of the model\n",
        "def residualCalculation(model, x):\n",
        "    f, dfdx, dfdxx, dfdxxx = derivativeCalculation(model, x)\n",
        "    return residual(f, dfdx, dfdxx, dfdxxx)"
      ],
      "metadata": {
        "id": "5kKDMkgrtj_u"
      },
      "execution_count": 35,
      "outputs": []
    },
    {
      "cell_type": "markdown",
      "source": [
        "One has now all the elements to calculate the custom loss function used in PINNs\n",
        "\n",
        "In this case, along with the error derived from the residual of the differential equation and the one related to the boundary conditions, there will also be the loss term related to the the difference with known data, which in this case are given by the data calculated with the numerical solver in SciPy"
      ],
      "metadata": {
        "id": "-kG1Fp0BcPcO"
      }
    },
    {
      "cell_type": "code",
      "source": [
        "def computeLossSupervised(model, x, xmin, xmax, yCorr):\n",
        "  bl1 = tf.zeros(x.shape, dtype=DTYPE)\n",
        "  bl2 = tf.zeros(x.shape, dtype=DTYPE)\n",
        "  br = tf.ones(x.shape, dtype=DTYPE)\n",
        "\n",
        "  xminVec = tf.zeros(x.shape, dtype=DTYPE)+xmin\n",
        "  xmaxVec = tf.zeros(x.shape, dtype=DTYPE)+xmax\n",
        "\n",
        "  leftBoundary = derivativeCalculation(model,xminVec) #Value of the model on the left boundary\n",
        "  rightBoundary = derivativeCalculation(model,xmaxVec) #Value of the model on the right boundary\n",
        "\n",
        "  #Loss with respect to the residual of the differential equation\n",
        "  loss = tf.reduce_mean(tf.square(residualCalculation(model, x)))\n",
        "\n",
        "  #Loss with respect to the boundary conditions\n",
        "  loss += tf.reduce_mean(tf.square(leftBoundary[0]-bl1))\n",
        "  loss += tf.reduce_mean(tf.square(leftBoundary[1]-bl2))\n",
        "  loss += tf.reduce_mean(tf.square(rightBoundary[1]-br))\n",
        "\n",
        "  #Loss with respect to the known data\n",
        "  loss += tf.reduce_mean(tf.square(model(x) - yCorr))\n",
        "  return loss"
      ],
      "metadata": {
        "id": "SFsYhODB_QPh"
      },
      "execution_count": 36,
      "outputs": []
    },
    {
      "cell_type": "markdown",
      "metadata": {
        "id": "ej3VZ6Jg8Jhm"
      },
      "source": [
        "From the custom loss just defined, one can then define the function for computing the gradient of the model"
      ]
    },
    {
      "cell_type": "code",
      "execution_count": 37,
      "metadata": {
        "id": "xNL1EIR18ov_"
      },
      "outputs": [],
      "source": [
        "def computeGradientSupervised(model, x, xmin, xmax, yCorr):\n",
        "  with tf.GradientTape(persistent=True) as tape:\n",
        "    # This tape is for derivatives with respect to trainable variables\n",
        "    tape.watch(model.trainable_variables)\n",
        "    loss = computeLossSupervised(model, x, xmin, xmax, yCorr)\n",
        "\n",
        "    gradient = tape.gradient(loss, model.trainable_variables)\n",
        "\n",
        "    del tape\n",
        "\n",
        "  return loss, gradient"
      ]
    },
    {
      "cell_type": "markdown",
      "metadata": {
        "id": "qouD4sEL84LA"
      },
      "source": [
        "#### Definition of the training function"
      ]
    },
    {
      "cell_type": "markdown",
      "metadata": {
        "id": "J0m4sIcD87ZS"
      },
      "source": [
        "One needs then to define a custom training function using the custom gradient and loss functions defined above"
      ]
    },
    {
      "cell_type": "code",
      "execution_count": 38,
      "metadata": {
        "id": "Yk852rr39gBE"
      },
      "outputs": [],
      "source": [
        "#Learning rate\n",
        "lr = 0.001\n",
        "\n",
        "#Definition of the optimizer\n",
        "optimizer = tf.keras.optimizers.Adam(learning_rate=lr)"
      ]
    },
    {
      "cell_type": "code",
      "source": [
        "#Compiling the network\n",
        "networkSupervised.compile(optimizer=optimizer)"
      ],
      "metadata": {
        "id": "PPKbqtV9TBlT"
      },
      "execution_count": 39,
      "outputs": []
    },
    {
      "cell_type": "code",
      "execution_count": 40,
      "metadata": {
        "id": "klLZSCJu9FQm"
      },
      "outputs": [],
      "source": [
        "#Function that does the train step\n",
        "@tf.function\n",
        "def trainStepSupervised(model, x, xmin, xmax, yCorr, optim):\n",
        "  loss, gradient = computeGradientSupervised(model, x, xmin, xmax, yCorr)\n",
        "  optim.apply_gradients(zip(gradient, model.trainable_variables))\n",
        "\n",
        "  return loss"
      ]
    },
    {
      "cell_type": "markdown",
      "source": [
        "The weights and biases of the network are updated using the gradient descend algorithm"
      ],
      "metadata": {
        "id": "XvgO7ecJV72F"
      }
    },
    {
      "cell_type": "markdown",
      "metadata": {
        "id": "sv8sy3GH9nRc"
      },
      "source": [
        "#### Training of the network"
      ]
    },
    {
      "cell_type": "markdown",
      "source": [
        "To be able to make the comparison between the two different implementation of the PINNs in the best way possible we w,ill train this network with the same parameters as in the unsupervised case. We will also use the same training and testing sets"
      ],
      "metadata": {
        "id": "m5GHM82CCW-z"
      }
    },
    {
      "cell_type": "code",
      "execution_count": 41,
      "metadata": {
        "id": "ok48jApV9ql_"
      },
      "outputs": [],
      "source": [
        "#Training parameters\n",
        "nEpochs = 100\n",
        "nBatches = 100\n",
        "\n",
        "#Array to store the history of values of loss values of the network\n",
        "historyTrainingSupervised = [] #Array containing the history of the mean losses of any epoch of training\n",
        "historyTestNetworkSupervised = [] #Array containing the history of the losses calculated on the test set at the end of every epoch of training\n",
        "historyTestMSESupervised = [] #Array containing the history of the losses calculated as MSE with respect to the \"empirical\" data. They are calculated on the test set at the end of every epoch of training\n",
        "\n",
        "#For a basic implementation of early stopping\n",
        "patience = 3\n",
        "wait = 0"
      ]
    },
    {
      "cell_type": "code",
      "source": [
        "tInit = time()\n",
        "\n",
        "batchSize = round((numPoints - testSetSize)/nBatches)\n",
        "\n",
        "for i in range(nEpochs):\n",
        "  historyCompleteTrainingSupervised = []\n",
        "  for j in range(nBatches):\n",
        "    lossTrainingBatch = trainStepSupervised(networkSupervised, xTraining[j*batchSize:((j+1)*batchSize)-1,:], xmin, xmax, yTraining[j*batchSize:((j+1)*batchSize)-1,:], optimizer)\n",
        "\n",
        "    #Append current loss to historyComplete\n",
        "    historyCompleteTrainingSupervised.append(lossTrainingBatch)\n",
        "\n",
        "  #Appends to history the mean loss of the current epoch\n",
        "  historyTrainingSupervised.append(np.mean(historyCompleteTrainingSupervised))\n",
        "\n",
        "  #Calculation of loss for test values\n",
        "  testLossNetworkSupervised = computeLossSupervised(networkSupervised, xTest, xmin, xmax, yTest)\n",
        "  historyTestNetworkSupervised.append(testLossNetworkSupervised)\n",
        "\n",
        "  testLossMSESupervised = meanSquareError(networkSupervised(xTest), yTest)\n",
        "  historyTestMSESupervised.append(testLossMSESupervised)\n",
        "\n",
        "  #Output of the mean loss of the current epoch along with the loss associated to the test set calculated both with respecte to the custom lost function defined for the network and as mean square error\n",
        "  print('Epoch {:03d}: Mean loss training = {:10.8e}, Test loss (network function) = {:10.8e}, Test loss (quadratic) = {:10.8e}'.format(i,np.mean(historyCompleteTrainingSupervised),testLossNetworkSupervised,testLossMSESupervised))\n",
        "\n",
        "  #Simple implementation of early stopping\n",
        "  #Stop the training if the loss on the test set does not decrease over a certain number of epochs\n",
        "  if i > 1: #Check that we are not in the first iteration of the training process\n",
        "    #If the loss does not decrease, the wait value is incresed by one\n",
        "    if testLossNetworkSupervised > historyTestNetworkSupervised[-2]:\n",
        "      wait += 1\n",
        "    #If the loss decreases the wait variable is set again to zero and the network state is saved\n",
        "    else:\n",
        "      wait = 0\n",
        "      networkSupervised.save(\"networkSupervised.keras\")\n",
        "  if wait >= patience: #If wait is equal to patience then execute early stopping\n",
        "    print('--- Early stopping ---')\n",
        "    #Loading the last model before the loss started to increase\n",
        "    networkSupervised = load_model(\"networkSupervised.keras\")\n",
        "    break\n",
        "\n",
        "#Print computation timelossTrainingBatch\n",
        "tSupervisedPINN = time() - tInit\n",
        "print('\\nComputation time for supervised PINN: {} seconds'.format(tSupervisedPINN))"
      ],
      "metadata": {
        "colab": {
          "base_uri": "https://localhost:8080/"
        },
        "id": "-1eMAzqP-wls",
        "outputId": "1b6f2e73-06df-42a2-ceb5-15f7a0778b32"
      },
      "execution_count": 42,
      "outputs": [
        {
          "output_type": "stream",
          "name": "stderr",
          "text": [
            "WARNING:tensorflow:Calling GradientTape.gradient on a persistent tape inside its context is significantly less efficient than calling it outside the context (it causes the gradient ops to be recorded on the tape, leading to increased CPU and memory usage). Only call GradientTape.gradient inside the context if you actually want to trace the gradient in order to compute higher order derivatives.\n",
            "WARNING:tensorflow:Calling GradientTape.gradient on a persistent tape inside its context is significantly less efficient than calling it outside the context (it causes the gradient ops to be recorded on the tape, leading to increased CPU and memory usage). Only call GradientTape.gradient inside the context if you actually want to trace the gradient in order to compute higher order derivatives.\n",
            "WARNING:tensorflow:Calling GradientTape.gradient on a persistent tape inside its context is significantly less efficient than calling it outside the context (it causes the gradient ops to be recorded on the tape, leading to increased CPU and memory usage). Only call GradientTape.gradient inside the context if you actually want to trace the gradient in order to compute higher order derivatives.\n"
          ]
        },
        {
          "output_type": "stream",
          "name": "stdout",
          "text": [
            "Epoch 000: Mean loss training = 2.04794422e+00, Test loss (network function) = 8.65882013e-01, Test loss (quadratic) = 2.06324199e-01\n",
            "Epoch 001: Mean loss training = 5.92249970e-01, Test loss (network function) = 3.68749327e-01, Test loss (quadratic) = 6.08744789e-02\n",
            "Epoch 002: Mean loss training = 2.39410492e-01, Test loss (network function) = 1.50456047e-01, Test loss (quadratic) = 9.66351837e-03\n",
            "Epoch 003: Mean loss training = 1.16972425e-01, Test loss (network function) = 9.23705371e-02, Test loss (quadratic) = 1.98396685e-03\n",
            "Epoch 004: Mean loss training = 7.85526447e-02, Test loss (network function) = 6.52210735e-02, Test loss (quadratic) = 9.87984883e-04\n",
            "Epoch 005: Mean loss training = 5.65404588e-02, Test loss (network function) = 4.76593261e-02, Test loss (quadratic) = 6.18586332e-04\n",
            "Epoch 006: Mean loss training = 4.18691985e-02, Test loss (network function) = 3.56865802e-02, Test loss (quadratic) = 4.37608255e-04\n",
            "Epoch 007: Mean loss training = 3.16797422e-02, Test loss (network function) = 2.72153895e-02, Test loss (quadratic) = 3.27937787e-04\n",
            "Epoch 008: Mean loss training = 2.43451915e-02, Test loss (network function) = 2.10156538e-02, Test loss (quadratic) = 2.45503051e-04\n",
            "Epoch 009: Mean loss training = 1.88996931e-02, Test loss (network function) = 1.63547647e-02, Test loss (quadratic) = 1.80731720e-04\n",
            "Epoch 010: Mean loss training = 1.47641325e-02, Test loss (network function) = 1.27891071e-02, Test loss (quadratic) = 1.25652166e-04\n",
            "Epoch 011: Mean loss training = 1.15814352e-02, Test loss (network function) = 1.00381522e-02, Test loss (quadratic) = 8.14732017e-05\n",
            "Epoch 012: Mean loss training = 9.11997553e-03, Test loss (network function) = 7.91365324e-03, Test loss (quadratic) = 4.85160240e-05\n",
            "Epoch 013: Mean loss training = 7.21952852e-03, Test loss (network function) = 6.28075627e-03, Test loss (quadratic) = 2.65527620e-05\n",
            "Epoch 014: Mean loss training = 5.76199541e-03, Test loss (network function) = 5.03707529e-03, Test loss (quadratic) = 1.38473339e-05\n",
            "Epoch 015: Mean loss training = 4.65537190e-03, Test loss (network function) = 4.10067286e-03, Test loss (quadratic) = 7.60101764e-06\n",
            "Epoch 016: Mean loss training = 3.82488227e-03, Test loss (network function) = 3.40402035e-03, Test loss (quadratic) = 6.97381849e-06\n",
            "Epoch 017: Mean loss training = 3.20840901e-03, Test loss (network function) = 2.89072429e-03, Test loss (quadratic) = 1.10799492e-05\n",
            "Epoch 018: Mean loss training = 2.75410872e-03, Test loss (network function) = 2.51401400e-03, Test loss (quadratic) = 1.78118014e-05\n",
            "Epoch 019: Mean loss training = 2.41934276e-03, Test loss (network function) = 2.23614390e-03, Test loss (quadratic) = 2.54271348e-05\n",
            "Epoch 020: Mean loss training = 2.17010354e-03, Test loss (network function) = 2.02763039e-03, Test loss (quadratic) = 3.23528271e-05\n",
            "Epoch 021: Mean loss training = 1.98040455e-03, Test loss (network function) = 1.86663027e-03, Test loss (quadratic) = 3.78688982e-05\n",
            "Epoch 022: Mean loss training = 1.83130742e-03, Test loss (network function) = 1.73774140e-03, Test loss (quadratic) = 4.21251334e-05\n",
            "Epoch 023: Mean loss training = 1.70969268e-03, Test loss (network function) = 1.63027960e-03, Test loss (quadratic) = 4.50464068e-05\n",
            "Epoch 024: Mean loss training = 1.60687424e-03, Test loss (network function) = 1.53760462e-03, Test loss (quadratic) = 4.67271627e-05\n",
            "Epoch 025: Mean loss training = 1.51736644e-03, Test loss (network function) = 1.45584860e-03, Test loss (quadratic) = 4.73603406e-05\n",
            "Epoch 026: Mean loss training = 1.43770396e-03, Test loss (network function) = 1.38232766e-03, Test loss (quadratic) = 4.71480267e-05\n",
            "Epoch 027: Mean loss training = 1.36564399e-03, Test loss (network function) = 1.31529834e-03, Test loss (quadratic) = 4.64856488e-05\n",
            "Epoch 028: Mean loss training = 1.29967179e-03, Test loss (network function) = 1.25351882e-03, Test loss (quadratic) = 4.55263149e-05\n",
            "Epoch 029: Mean loss training = 1.23869622e-03, Test loss (network function) = 1.19623327e-03, Test loss (quadratic) = 4.45835781e-05\n",
            "Epoch 030: Mean loss training = 1.18187031e-03, Test loss (network function) = 1.14277586e-03, Test loss (quadratic) = 4.36200382e-05\n",
            "Epoch 031: Mean loss training = 1.12858273e-03, Test loss (network function) = 1.09220770e-03, Test loss (quadratic) = 4.22923450e-05\n",
            "Epoch 032: Mean loss training = 1.07830689e-03, Test loss (network function) = 1.04434407e-03, Test loss (quadratic) = 4.10200152e-05\n",
            "Epoch 033: Mean loss training = 1.03059491e-03, Test loss (network function) = 9.98355623e-04, Test loss (quadratic) = 3.92995812e-05\n",
            "Epoch 034: Mean loss training = 9.84939195e-04, Test loss (network function) = 9.54258219e-04, Test loss (quadratic) = 3.73841062e-05\n",
            "Epoch 035: Mean loss training = 9.41068853e-04, Test loss (network function) = 9.12019053e-04, Test loss (quadratic) = 3.55696670e-05\n",
            "Epoch 036: Mean loss training = 8.98740572e-04, Test loss (network function) = 8.71298735e-04, Test loss (quadratic) = 3.37487395e-05\n",
            "Epoch 037: Mean loss training = 8.57739285e-04, Test loss (network function) = 8.31748320e-04, Test loss (quadratic) = 3.21760472e-05\n",
            "Epoch 038: Mean loss training = 8.17915612e-04, Test loss (network function) = 7.93342953e-04, Test loss (quadratic) = 3.13074722e-05\n",
            "Epoch 039: Mean loss training = 7.78443358e-04, Test loss (network function) = 7.53344411e-04, Test loss (quadratic) = 2.85180298e-05\n",
            "Epoch 040: Mean loss training = 7.39789844e-04, Test loss (network function) = 7.15119445e-04, Test loss (quadratic) = 2.67236510e-05\n",
            "Epoch 041: Mean loss training = 7.01303368e-04, Test loss (network function) = 6.79235310e-04, Test loss (quadratic) = 2.63273362e-05\n",
            "Epoch 042: Mean loss training = 6.62692444e-04, Test loss (network function) = 6.40354007e-04, Test loss (quadratic) = 2.39545176e-05\n",
            "Epoch 043: Mean loss training = 6.24004665e-04, Test loss (network function) = 6.00985524e-04, Test loss (quadratic) = 2.16081727e-05\n",
            "Epoch 044: Mean loss training = 5.84975773e-04, Test loss (network function) = 5.63092182e-04, Test loss (quadratic) = 2.07295286e-05\n",
            "Epoch 045: Mean loss training = 5.45758222e-04, Test loss (network function) = 5.23290686e-04, Test loss (quadratic) = 1.86493471e-05\n",
            "Epoch 046: Mean loss training = 5.05999778e-04, Test loss (network function) = 4.83788119e-04, Test loss (quadratic) = 1.71947265e-05\n",
            "Epoch 047: Mean loss training = 4.65609869e-04, Test loss (network function) = 4.44447093e-04, Test loss (quadratic) = 1.66836687e-05\n",
            "Epoch 048: Mean loss training = 4.24706524e-04, Test loss (network function) = 4.02617382e-04, Test loss (quadratic) = 1.39819378e-05\n",
            "Epoch 049: Mean loss training = 3.83972182e-04, Test loss (network function) = 3.61226937e-04, Test loss (quadratic) = 1.19308334e-05\n",
            "Epoch 050: Mean loss training = 3.41736569e-04, Test loss (network function) = 3.20775785e-04, Test loss (quadratic) = 1.10502345e-05\n",
            "Epoch 051: Mean loss training = 3.00814369e-04, Test loss (network function) = 2.80693552e-04, Test loss (quadratic) = 9.97801363e-06\n",
            "Epoch 052: Mean loss training = 2.61035963e-04, Test loss (network function) = 2.40812830e-04, Test loss (quadratic) = 7.14452854e-06\n",
            "Epoch 053: Mean loss training = 2.26405860e-04, Test loss (network function) = 2.06270371e-04, Test loss (quadratic) = 6.79471007e-06\n",
            "Epoch 054: Mean loss training = 1.93597983e-04, Test loss (network function) = 1.75935482e-04, Test loss (quadratic) = 6.25994470e-06\n",
            "Epoch 055: Mean loss training = 1.64740354e-04, Test loss (network function) = 1.48626585e-04, Test loss (quadratic) = 4.72587670e-06\n",
            "Epoch 056: Mean loss training = 1.41259458e-04, Test loss (network function) = 1.34081215e-04, Test loss (quadratic) = 8.77404963e-06\n",
            "Epoch 057: Mean loss training = 1.23283886e-04, Test loss (network function) = 1.21001060e-04, Test loss (quadratic) = 1.08954437e-05\n",
            "Epoch 058: Mean loss training = 1.10253599e-04, Test loss (network function) = 9.67687196e-05, Test loss (quadratic) = 1.94915243e-06\n",
            "Epoch 059: Mean loss training = 9.79812820e-05, Test loss (network function) = 8.99112119e-05, Test loss (quadratic) = 4.01080546e-06\n",
            "Epoch 060: Mean loss training = 1.04468442e-04, Test loss (network function) = 8.08090897e-05, Test loss (quadratic) = 2.74287984e-06\n",
            "Epoch 061: Mean loss training = 7.60964197e-05, Test loss (network function) = 7.34005271e-05, Test loss (quadratic) = 1.71587834e-06\n",
            "Epoch 062: Mean loss training = 7.76715593e-05, Test loss (network function) = 6.98105586e-05, Test loss (quadratic) = 3.16414928e-06\n",
            "Epoch 063: Mean loss training = 7.80523664e-05, Test loss (network function) = 6.46919590e-05, Test loss (quadratic) = 2.61424923e-06\n",
            "Epoch 064: Mean loss training = 6.73130122e-05, Test loss (network function) = 5.88135769e-05, Test loss (quadratic) = 1.69202065e-06\n",
            "Epoch 065: Mean loss training = 8.01087524e-05, Test loss (network function) = 5.41817624e-05, Test loss (quadratic) = 1.02059693e-06\n",
            "Epoch 066: Mean loss training = 5.26384986e-05, Test loss (network function) = 5.11588658e-05, Test loss (quadratic) = 1.45555645e-06\n",
            "Epoch 067: Mean loss training = 7.00867490e-05, Test loss (network function) = 4.74461156e-05, Test loss (quadratic) = 9.35506556e-07\n",
            "Epoch 068: Mean loss training = 4.71714410e-05, Test loss (network function) = 5.45831110e-05, Test loss (quadratic) = 8.34916845e-06\n",
            "Epoch 069: Mean loss training = 7.13793327e-05, Test loss (network function) = 4.31234474e-05, Test loss (quadratic) = 2.19391677e-06\n",
            "Epoch 070: Mean loss training = 4.04707785e-05, Test loss (network function) = 3.97362688e-05, Test loss (quadratic) = 1.46512247e-06\n",
            "Epoch 071: Mean loss training = 5.73174610e-05, Test loss (network function) = 3.76298504e-05, Test loss (quadratic) = 1.36029380e-06\n",
            "Epoch 072: Mean loss training = 4.28318559e-05, Test loss (network function) = 3.64248431e-05, Test loss (quadratic) = 2.10301095e-06\n",
            "Epoch 073: Mean loss training = 5.79280607e-05, Test loss (network function) = 3.28946307e-05, Test loss (quadratic) = 1.08743138e-06\n",
            "Epoch 074: Mean loss training = 3.26948083e-05, Test loss (network function) = 5.14617814e-05, Test loss (quadratic) = 1.60907668e-05\n",
            "Epoch 075: Mean loss training = 4.51088096e-05, Test loss (network function) = 2.87376433e-05, Test loss (quadratic) = 9.27967604e-07\n",
            "Epoch 076: Mean loss training = 6.93169459e-05, Test loss (network function) = 2.65558708e-05, Test loss (quadratic) = 3.63771084e-07\n",
            "Epoch 077: Mean loss training = 2.58751972e-05, Test loss (network function) = 2.56422863e-05, Test loss (quadratic) = 7.66419582e-07\n",
            "Epoch 078: Mean loss training = 3.12917988e-05, Test loss (network function) = 1.28642830e-04, Test loss (quadratic) = 7.95770588e-05\n",
            "Epoch 079: Mean loss training = 3.36007642e-05, Test loss (network function) = 2.35809713e-05, Test loss (quadratic) = 1.38439891e-06\n",
            "Epoch 080: Mean loss training = 4.24456405e-05, Test loss (network function) = 2.12829322e-05, Test loss (quadratic) = 8.04144725e-07\n",
            "Epoch 081: Mean loss training = 4.28122630e-05, Test loss (network function) = 2.30987955e-05, Test loss (quadratic) = 2.69263066e-06\n",
            "Epoch 082: Mean loss training = 3.13399184e-05, Test loss (network function) = 3.49226624e-05, Test loss (quadratic) = 1.31707696e-05\n",
            "Epoch 083: Mean loss training = 3.45980458e-05, Test loss (network function) = 1.74566545e-05, Test loss (quadratic) = 1.83272461e-07\n",
            "Epoch 084: Mean loss training = 2.25716834e-05, Test loss (network function) = 4.24901416e-05, Test loss (quadratic) = 1.99598077e-05\n",
            "Epoch 085: Mean loss training = 3.81142934e-05, Test loss (network function) = 7.29321669e-05, Test loss (quadratic) = 4.26711583e-05\n",
            "Epoch 086: Mean loss training = 2.93061403e-05, Test loss (network function) = 1.82812328e-05, Test loss (quadratic) = 2.63867652e-06\n",
            "Epoch 087: Mean loss training = 3.10921208e-05, Test loss (network function) = 1.42890565e-05, Test loss (quadratic) = 7.29784502e-07\n",
            "Epoch 088: Mean loss training = 3.76411832e-05, Test loss (network function) = 1.61466213e-05, Test loss (quadratic) = 2.52151005e-06\n",
            "Epoch 089: Mean loss training = 1.28163422e-05, Test loss (network function) = 1.73627812e-05, Test loss (quadratic) = 4.08409103e-06\n",
            "Epoch 090: Mean loss training = 3.49777312e-05, Test loss (network function) = 1.17551164e-05, Test loss (quadratic) = 3.54558959e-07\n",
            "Epoch 091: Mean loss training = 5.39237193e-05, Test loss (network function) = 1.11546504e-05, Test loss (quadratic) = 3.21151122e-07\n",
            "Epoch 092: Mean loss training = 1.06625530e-05, Test loss (network function) = 1.05903911e-05, Test loss (quadratic) = 3.05673712e-07\n",
            "Epoch 093: Mean loss training = 2.72328723e-05, Test loss (network function) = 5.03938081e-05, Test loss (quadratic) = 2.85183346e-05\n",
            "Epoch 094: Mean loss training = 1.67221238e-05, Test loss (network function) = 1.25921828e-04, Test loss (quadratic) = 8.52324725e-05\n",
            "Epoch 095: Mean loss training = 2.70628423e-05, Test loss (network function) = 8.84476757e-05, Test loss (quadratic) = 5.84983685e-05\n",
            "Epoch 096: Mean loss training = 2.95966142e-05, Test loss (network function) = 2.62754515e-05, Test loss (quadratic) = 1.29943043e-05\n",
            "Epoch 097: Mean loss training = 3.03880019e-05, Test loss (network function) = 5.05582290e-05, Test loss (quadratic) = 3.11209866e-05\n",
            "Epoch 098: Mean loss training = 1.53267227e-05, Test loss (network function) = 7.89162296e-06, Test loss (quadratic) = 2.59860987e-07\n",
            "Epoch 099: Mean loss training = 4.89282018e-05, Test loss (network function) = 7.34993182e-06, Test loss (quadratic) = 7.18782826e-08\n",
            "\n",
            "Computation time for supervised PINN: 56.66719627380371 seconds\n"
          ]
        }
      ]
    },
    {
      "cell_type": "markdown",
      "source": [
        "**NOTE**: The warning on `GradientTape` was ignored, since we what to compute the higher order derivatives"
      ],
      "metadata": {
        "id": "K_f-ZEwiXBIL"
      }
    },
    {
      "cell_type": "markdown",
      "source": [
        "#### Plotting the results"
      ],
      "metadata": {
        "id": "eSWquXLjgJPH"
      }
    },
    {
      "cell_type": "code",
      "source": [
        "plt.plot(numericalSolution.x, numericalSolution.y[0], label='SciPy numerical solution')\n",
        "plt.plot(eta, tf.reshape(networkSupervised(np.reshape(eta, (numPoints,1))), [numPoints]), label='Solution of supervised model')\n",
        "plt.title('Supervised learning')\n",
        "plt.ylabel('f(x)')\n",
        "plt.xlabel('x')\n",
        "plt.legend()\n",
        "plt.show()"
      ],
      "metadata": {
        "colab": {
          "base_uri": "https://localhost:8080/",
          "height": 472
        },
        "id": "rSc-rTR8Ggsa",
        "outputId": "3c56a286-9c8b-4730-e17a-0619cf7d5ad8"
      },
      "execution_count": 43,
      "outputs": [
        {
          "output_type": "display_data",
          "data": {
            "text/plain": [
              "<Figure size 640x480 with 1 Axes>"
            ],
            "image/png": "[encoded data removed]"
          },
          "metadata": {}
        }
      ]
    },
    {
      "cell_type": "code",
      "source": [
        "plt.plot(range(len(historyTrainingSupervised)),historyTrainingSupervised, label='Training loss')\n",
        "plt.plot(range(len(historyTestNetworkSupervised)),historyTestNetworkSupervised, label='Test loss (custom)')\n",
        "plt.plot(range(len(historyTestMSESupervised)),historyTestMSESupervised, label='Test loss (MSE)')\n",
        "plt.title('Supervised model loss')\n",
        "plt.ylabel('Loss')\n",
        "plt.xlabel('Epochs')\n",
        "plt.legend()\n",
        "plt.show()"
      ],
      "metadata": {
        "colab": {
          "base_uri": "https://localhost:8080/",
          "height": 472
        },
        "id": "NGTfM7SWFWuQ",
        "outputId": "da7c7e40-2f3d-471e-87ad-48d1474e6056"
      },
      "execution_count": 44,
      "outputs": [
        {
          "output_type": "display_data",
          "data": {
            "text/plain": [
              "<Figure size 640x480 with 1 Axes>"
            ],
            "image/png": "[encoded data removed]"
          },
          "metadata": {}
        }
      ]
    },
    {
      "cell_type": "markdown",
      "source": [
        "#### Quality of the model"
      ],
      "metadata": {
        "id": "yyTVSTffeVpL"
      }
    },
    {
      "cell_type": "markdown",
      "source": [
        "To conclude our analysis of the model, we calculate the R^2 value to determine the quality of our model"
      ],
      "metadata": {
        "id": "GYZGzz-JXJU0"
      }
    },
    {
      "cell_type": "code",
      "source": [
        "R2(tf.reshape(networkSupervised(np.reshape(eta, (numPoints,1))), [np.size(eta)]), numericalSolution.y[0])"
      ],
      "metadata": {
        "colab": {
          "base_uri": "https://localhost:8080/"
        },
        "id": "ggQjzvlXj-Wi",
        "outputId": "1dac2de6-df31-4ee8-9f72-55a49ca96b89"
      },
      "execution_count": 45,
      "outputs": [
        {
          "output_type": "execute_result",
          "data": {
            "text/plain": [
              "0.9999999321625505"
            ]
          },
          "metadata": {},
          "execution_count": 45
        }
      ]
    },
    {
      "cell_type": "markdown",
      "source": [
        "The accordance between the values calculated using the PINN and the data (the numerical values reconstructed using the solve_bvp function) is extremely good, almost perfect"
      ],
      "metadata": {
        "id": "G8kL86U7XOSp"
      }
    },
    {
      "cell_type": "markdown",
      "source": [
        "## Conclusions"
      ],
      "metadata": {
        "id": "f5gn64ajgcVx"
      }
    },
    {
      "cell_type": "markdown",
      "source": [
        "### Comparing the SciPy algorith and the PINNs"
      ],
      "metadata": {
        "id": "AEKua2m7Ee7Z"
      }
    },
    {
      "cell_type": "markdown",
      "source": [
        "As first concluding remark, we observe that the both PINNs were able to reconstruct numerically the solution of the Blausius equation as good as the traditional numerical metod implemented by the solve_bvp algorithm. This is proven by the value of the $R^2$ which is substantially equal to one in both cases"
      ],
      "metadata": {
        "id": "Wp3ACUPNElPG"
      }
    },
    {
      "cell_type": "markdown",
      "source": [
        "The main difference between the two methods is the execution time. Training the neural network, in this case, takes more time that executing the numerical solver\n",
        "\n",
        "Therefore, we would say that in this case the classical method is still better than the one using PINN. However, it is still extremely interesting the fact that the neural network is able to reproduce so faithfully the results of the standar numerical methods just exploiting the knowledge about the differential equation, i.e. the underlying physics"
      ],
      "metadata": {
        "id": "vEsIHnWFFjLM"
      }
    },
    {
      "cell_type": "markdown",
      "source": [
        "### Comparison between the unsuperviesd and supervised PINNS"
      ],
      "metadata": {
        "id": "k-fnf4oQGp6Y"
      }
    },
    {
      "cell_type": "markdown",
      "source": [
        "Both implementations have proved to be extremely effective in recostructing numerically the solution of the Blasisus equation, and, a part from the conceptual difference between the models, they are indistinguishable considering only the results they obtained"
      ],
      "metadata": {
        "id": "BDh54zRTeQrM"
      }
    },
    {
      "cell_type": "markdown",
      "source": [
        "We can also check the combatibility between the two using the R^2 value"
      ],
      "metadata": {
        "id": "2Yl1578aengb"
      }
    },
    {
      "cell_type": "code",
      "source": [
        "#Considering the unsupervised the tentative model and the supervised the known data\n",
        "R2(tf.reshape(networkUnsupervised(np.reshape(eta, (numPoints,1))), [np.size(eta)]), tf.reshape(networkSupervised(np.reshape(eta, (numPoints,1))), [np.size(eta)]))"
      ],
      "metadata": {
        "colab": {
          "base_uri": "https://localhost:8080/"
        },
        "id": "Wgqig8cUeujV",
        "outputId": "9e9fc5b9-bf26-44f5-cf5e-457c00ddf1fd"
      },
      "execution_count": 46,
      "outputs": [
        {
          "output_type": "execute_result",
          "data": {
            "text/plain": [
              "0.9999968972287403"
            ]
          },
          "metadata": {},
          "execution_count": 46
        }
      ]
    },
    {
      "cell_type": "code",
      "source": [
        "#Considering the supervised the tentative model and the unsupervised the known data\n",
        "R2(tf.reshape(networkSupervised(np.reshape(eta, (numPoints,1))), [np.size(eta)]), tf.reshape(networkUnsupervised(np.reshape(eta, (numPoints,1))), [np.size(eta)]))"
      ],
      "metadata": {
        "colab": {
          "base_uri": "https://localhost:8080/"
        },
        "id": "Y7Nu__ACe_5W",
        "outputId": "965de71e-19de-4808-e033-aeb201380d3f"
      },
      "execution_count": 47,
      "outputs": [
        {
          "output_type": "execute_result",
          "data": {
            "text/plain": [
              "0.9999969023152071"
            ]
          },
          "metadata": {},
          "execution_count": 47
        }
      ]
    },
    {
      "cell_type": "markdown",
      "source": [
        "They are in perfect agreement"
      ],
      "metadata": {
        "id": "OEA2AI5efjKQ"
      }
    },
    {
      "cell_type": "markdown",
      "source": [
        "### Final plot"
      ],
      "metadata": {
        "id": "ZsCe11I8Iguc"
      }
    },
    {
      "cell_type": "markdown",
      "source": [
        "To conclude our project we make a final plot to visually compare the three different numerical reconstructions of the solution of the Blausius equation"
      ],
      "metadata": {
        "id": "VyTLgINKImR5"
      }
    },
    {
      "cell_type": "code",
      "source": [
        "plt.plot(numericalSolution.x, numericalSolution.y[0],label='Standard numerical solver')\n",
        "plt.plot(eta, networkUnsupervised(eta), label='Unsupervised model')\n",
        "plt.plot(eta, networkSupervised(eta), label='Supervised model')\n",
        "plt.title('Comparison of the three methods')\n",
        "plt.xlabel('x')\n",
        "plt.ylabel('f(x)')\n",
        "plt.legend()"
      ],
      "metadata": {
        "colab": {
          "base_uri": "https://localhost:8080/",
          "height": 490
        },
        "id": "PMa0gtpXI7OA",
        "outputId": "f01ab357-6c15-43a2-ec51-4f13bb43b801"
      },
      "execution_count": 48,
      "outputs": [
        {
          "output_type": "execute_result",
          "data": {
            "text/plain": [
              "<matplotlib.legend.Legend at 0x7ce79c717ac0>"
            ]
          },
          "metadata": {},
          "execution_count": 48
        },
        {
          "output_type": "display_data",
          "data": {
            "text/plain": [
              "<Figure size 640x480 with 1 Axes>"
            ],
            "image/png": "[encoded data removed]"
          },
          "metadata": {}
        }
      ]
    },
    {
      "cell_type": "markdown",
      "source": [
        "As already highlighted, the three solutions are indistinguishable"
      ],
      "metadata": {
        "id": "XmuyKq2fI1h4"
      }
    },
    {
      "cell_type": "markdown",
      "source": [
        "### Final considerations"
      ],
      "metadata": {
        "id": "GX61rOksfmm_"
      }
    },
    {
      "cell_type": "markdown",
      "source": [
        "As final considerations we observe that the PINNs have proved to be an extremely effective method for the numerical reconstruction of the solution of differential equations. Both in case one has empirical data available with which to train the model, and when these are not available and one can rely only on the knowledge about the differential equation\n",
        "\n",
        "Furthemore, we found quite impressive the fact that such small networks (1 x 20 x 20 x 1) where able to determine the solution with so little training and such high reliability\n",
        "During our tests both models where able to consistently reach loss errors of approximately 1e-6 after a small number of training cycles"
      ],
      "metadata": {
        "id": "q4Rq4tFUfqpX"
      }
    },
    {
      "cell_type": "markdown",
      "metadata": {
        "id": "nlTAxzZB7XLP"
      },
      "source": [
        "## References\n",
        "[1] https://www.cfm.brown.edu/people/dobrush/am33/Mathematica/ch7/blasius.html\n",
        "\n",
        "[2] Raissi M, Perdikaris P, Karniadakis GE (2017c) Physics Informed Deep Learning (Part I): Data-driven Solutions of Nonlinear Partial Differen- tial Equations. URL: http://arxiv.org/abs/1711.10561\n",
        "\n",
        "[3] Raissi M, Perdikaris P, Karniadakis GE (2017d) Physics Informed Deep Learning (Part II): Data-driven Discovery of Nonlinear Partial Differen- tial Equations. URL: http://arxiv.org/abs/1711.10566\n",
        "\n",
        "[4] Cuomo, S., Di Cola, V.S., Giampaolo, F. et al. Scientific Machine Learning Through Physics-Informed Neural Networks: Where we are and What's Next. J Sci Comput 92, 88 (2022). DOI: https://doi.org/10.1007/s10915-022-01939-z\n",
        "\n",
        "[5] https://www.youtube.com/watch?v=vWcRuay1tt4\n",
        "\n",
        "[6] Nascimento RG, Fricke K, Viana FA (2020) A tutorial on solving ordinary\n",
        "differential equations using python and hybrid physics-informed neural net-\n",
        "work. Engineering Applications of Artificial Intelligence 96:103,996. DOI: https://doi.org/10.1016/j.engappai.2020.103996, URL: https://www.sciencedirect.com/science/article/pii/S095219762030292X\n",
        "\n",
        "[7] https://github.com/maziarraissi/PINNs/tree/master\n",
        "\n",
        "[8] https://i-systems.github.io/tutorial/KSME/CAE/220520/01_PINN.html\n",
        "\n",
        "[9] https://colab.research.google.com/drive/1BzjE3opm7nlyIQmaidxEhiaJ88rhnoiZ\n"
      ]
    }
  ]
}